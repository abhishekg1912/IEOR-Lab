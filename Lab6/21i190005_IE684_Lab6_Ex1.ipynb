{
  "nbformat": 4,
  "nbformat_minor": 0,
  "metadata": {
    "colab": {
      "name": "21i190005_IE684_Lab6_Ex1.ipynb",
      "provenance": []
    },
    "kernelspec": {
      "name": "python3",
      "display_name": "Python 3"
    },
    "language_info": {
      "name": "python"
    }
  },
  "cells": [
    {
      "cell_type": "markdown",
      "source": [
        "#EXERCISE-1"
      ],
      "metadata": {
        "id": "A0QD3CYnXxZE"
      }
    },
    {
      "cell_type": "code",
      "execution_count": 130,
      "metadata": {
        "id": "oehXm3YATu1E"
      },
      "outputs": [],
      "source": [
        "import numpy as np\n",
        "import math\n",
        "import matplotlib.pyplot as plt\n",
        "from timeit import default_timer as timer\n",
        "np.random.seed(1000)"
      ]
    },
    {
      "cell_type": "code",
      "source": [
        "A=np.random.randn(1000,10)"
      ],
      "metadata": {
        "id": "wfDXerkhVxqc"
      },
      "execution_count": 131,
      "outputs": []
    },
    {
      "cell_type": "code",
      "source": [
        "A.shape"
      ],
      "metadata": {
        "colab": {
          "base_uri": "https://localhost:8080/"
        },
        "id": "frKtGecaWgdi",
        "outputId": "33432c38-2978-4612-be11-c8c8064a8465"
      },
      "execution_count": 132,
      "outputs": [
        {
          "output_type": "execute_result",
          "data": {
            "text/plain": [
              "(1000, 10)"
            ]
          },
          "metadata": {},
          "execution_count": 132
        }
      ]
    },
    {
      "cell_type": "code",
      "source": [
        "epsilon=np.random.randn(1000,1)"
      ],
      "metadata": {
        "id": "rX0O5As6WiC0"
      },
      "execution_count": 133,
      "outputs": []
    },
    {
      "cell_type": "code",
      "source": [
        "epsilon.shape"
      ],
      "metadata": {
        "colab": {
          "base_uri": "https://localhost:8080/"
        },
        "id": "3tpCMnYVYZvh",
        "outputId": "214b5dfb-e6f4-4f0f-a7c2-da8719243613"
      },
      "execution_count": 134,
      "outputs": [
        {
          "output_type": "execute_result",
          "data": {
            "text/plain": [
              "(1000, 1)"
            ]
          },
          "metadata": {},
          "execution_count": 134
        }
      ]
    },
    {
      "cell_type": "code",
      "source": [
        "x=[]\n",
        "for i in range(1,11):\n",
        "  if i%2==0:\n",
        "    x.append(np.random.uniform(i,i+1))\n",
        "  if i%2!=0:\n",
        "    x.append(np.random.uniform(-i-1,-i))\n",
        "print(x)\n"
      ],
      "metadata": {
        "colab": {
          "base_uri": "https://localhost:8080/"
        },
        "id": "dhm8tTgaYc3E",
        "outputId": "940894d6-a9d4-41ff-d81b-2c1638837e34"
      },
      "execution_count": 135,
      "outputs": [
        {
          "output_type": "stream",
          "name": "stdout",
          "text": [
            "[-1.5598060982531905, 2.3304600657948655, -3.6795264016693583, 4.690106332295438, -5.791543695407358, 6.066830606319292, -7.250688337950498, 8.29645037615345, -9.919538982700145, 10.753574141825613]\n"
          ]
        }
      ]
    },
    {
      "cell_type": "code",
      "source": [
        "x_bar=np.array(x)\n",
        "x_bar=x_bar.reshape(10,1)"
      ],
      "metadata": {
        "id": "eTBv1uvhZp6f"
      },
      "execution_count": 136,
      "outputs": []
    },
    {
      "cell_type": "code",
      "source": [
        "x_bar.shape"
      ],
      "metadata": {
        "colab": {
          "base_uri": "https://localhost:8080/"
        },
        "id": "42v2yV4JZ8FP",
        "outputId": "a719e69a-0f90-4b46-b28b-ab04adda65df"
      },
      "execution_count": 137,
      "outputs": [
        {
          "output_type": "execute_result",
          "data": {
            "text/plain": [
              "(10, 1)"
            ]
          },
          "metadata": {},
          "execution_count": 137
        }
      ]
    },
    {
      "cell_type": "code",
      "source": [
        "print(x_bar)"
      ],
      "metadata": {
        "colab": {
          "base_uri": "https://localhost:8080/"
        },
        "id": "gf2xxaEyZ96k",
        "outputId": "f648d4f6-c890-4631-cba8-7a7e0dd9cf39"
      },
      "execution_count": 138,
      "outputs": [
        {
          "output_type": "stream",
          "name": "stdout",
          "text": [
            "[[-1.5598061 ]\n",
            " [ 2.33046007]\n",
            " [-3.6795264 ]\n",
            " [ 4.69010633]\n",
            " [-5.7915437 ]\n",
            " [ 6.06683061]\n",
            " [-7.25068834]\n",
            " [ 8.29645038]\n",
            " [-9.91953898]\n",
            " [10.75357414]]\n"
          ]
        }
      ]
    },
    {
      "cell_type": "code",
      "source": [
        "A_x=A@x_bar"
      ],
      "metadata": {
        "id": "Z61-9-8baOHv"
      },
      "execution_count": 139,
      "outputs": []
    },
    {
      "cell_type": "code",
      "source": [
        "A_x.shape"
      ],
      "metadata": {
        "colab": {
          "base_uri": "https://localhost:8080/"
        },
        "id": "D1G1jAgkpshq",
        "outputId": "c349ebcd-bd4d-4267-a171-7224ffca041a"
      },
      "execution_count": 140,
      "outputs": [
        {
          "output_type": "execute_result",
          "data": {
            "text/plain": [
              "(1000, 1)"
            ]
          },
          "metadata": {},
          "execution_count": 140
        }
      ]
    },
    {
      "cell_type": "code",
      "source": [
        "np.matmul(A,x_bar).shape"
      ],
      "metadata": {
        "colab": {
          "base_uri": "https://localhost:8080/"
        },
        "id": "--ofdk3xpwVe",
        "outputId": "5696255b-211d-4562-88ac-5c83dc24db38"
      },
      "execution_count": 141,
      "outputs": [
        {
          "output_type": "execute_result",
          "data": {
            "text/plain": [
              "(1000, 1)"
            ]
          },
          "metadata": {},
          "execution_count": 141
        }
      ]
    },
    {
      "cell_type": "code",
      "source": [
        "y=A_x+epsilon"
      ],
      "metadata": {
        "id": "yWUpa2Ypapbk"
      },
      "execution_count": 142,
      "outputs": []
    },
    {
      "cell_type": "code",
      "source": [
        "y.shape"
      ],
      "metadata": {
        "colab": {
          "base_uri": "https://localhost:8080/"
        },
        "id": "RqWQam6QdZJ4",
        "outputId": "e768c636-0f58-4773-d3cf-08730bad87a9"
      },
      "execution_count": 143,
      "outputs": [
        {
          "output_type": "execute_result",
          "data": {
            "text/plain": [
              "(1000, 1)"
            ]
          },
          "metadata": {},
          "execution_count": 143
        }
      ]
    },
    {
      "cell_type": "code",
      "source": [
        "def evalf(x,n):\n",
        "  assert type(x) is np.ndarray and  len(x)==n\n",
        "  f_val=np.linalg.norm(A@x - y)\n",
        "  f_val=f_val**(2)\n",
        "  f_val=(0.5)*f_val\n",
        "  return f_val"
      ],
      "metadata": {
        "id": "sdCBkBFTatod"
      },
      "execution_count": 144,
      "outputs": []
    },
    {
      "cell_type": "code",
      "source": [
        "x=np.array([0 for i in range(10)])\n",
        "evalf(x,10)"
      ],
      "metadata": {
        "colab": {
          "base_uri": "https://localhost:8080/"
        },
        "id": "xvcyZzvJbvT_",
        "outputId": "4145ffbd-1b85-407a-dbfc-5fb4af147b54"
      },
      "execution_count": 145,
      "outputs": [
        {
          "output_type": "execute_result",
          "data": {
            "text/plain": [
              "253074145.7869687"
            ]
          },
          "metadata": {},
          "execution_count": 145
        }
      ]
    },
    {
      "cell_type": "code",
      "source": [
        "def evalg(x,n):\n",
        "  assert type(x) is np.ndarray \n",
        "  assert len(x) == n\n",
        "  return A.T@ (np.matmul(A, x) - y)"
      ],
      "metadata": {
        "id": "6uvm9xsib6lY"
      },
      "execution_count": 146,
      "outputs": []
    },
    {
      "cell_type": "code",
      "source": [
        "evalg(x,10).shape"
      ],
      "metadata": {
        "colab": {
          "base_uri": "https://localhost:8080/"
        },
        "id": "DluPhWGJiAeb",
        "outputId": "7edf59e7-86e5-43e7-dc9e-74bb34f0f2c3"
      },
      "execution_count": 147,
      "outputs": [
        {
          "output_type": "execute_result",
          "data": {
            "text/plain": [
              "(10, 1000)"
            ]
          },
          "metadata": {},
          "execution_count": 147
        }
      ]
    },
    {
      "cell_type": "code",
      "source": [
        "def evalh(x,n):\n",
        "  assert type(x) is np.ndarray \n",
        "  assert len(x) == n \n",
        "  return A.T @ A"
      ],
      "metadata": {
        "id": "rlu7-cF0cSdD"
      },
      "execution_count": 148,
      "outputs": []
    },
    {
      "cell_type": "markdown",
      "source": [
        "# **Que.2**"
      ],
      "metadata": {
        "id": "rMovPs2ddGif"
      }
    },
    {
      "cell_type": "code",
      "source": [
        "BACKTRACKING_LINE_SEARCH = 1"
      ],
      "metadata": {
        "id": "wZTDKnIOckIc"
      },
      "execution_count": 149,
      "outputs": []
    },
    {
      "cell_type": "code",
      "source": [
        "def compute_B_k(s, y, B_k, n):\n",
        "  assert type(s) is np.ndarray and len(s) == n\n",
        "  assert type(B_k) is np.ndarray and len(y) == n \n",
        "  mu = 1 / np.dot(np.squeeze(np.asarray(y)), np.squeeze(np.asarray(s)))\n",
        "  I = np.identity(n)\n",
        "  a_1 = np.outer(np.multiply(mu, s), y.T)\n",
        "  a_2 = np.outer(np.multiply(mu, y), s.T)\n",
        "  b_k = np.add(np.matmul(np.matmul(I - a_1, B_k), I - a_2), np.outer(np.multiply(mu, s), s.T) )\n",
        "  return b_k"
      ],
      "metadata": {
        "id": "obpvyhKCoKV6"
      },
      "execution_count": 150,
      "outputs": []
    },
    {
      "cell_type": "code",
      "source": [
        "def compute_D_k(x,n):\n",
        "  assert type(x) is np.ndarray and len(x) == n\n",
        "  if np.linalg.det(evalh(x,n)) == 0:\n",
        "    raise ValueError('Determinant of Hessian is zero')\n",
        "  return np.linalg.inv(evalh(x,n))"
      ],
      "metadata": {
        "id": "B-L0u87mdWM0"
      },
      "execution_count": 151,
      "outputs": []
    },
    {
      "cell_type": "code",
      "source": [
        "def compute_steplength_backtracking_scaled_direction(x, gradf, alpha_start, rho, gamma, B_k): \n",
        "  assert type(x) is np.ndarray\n",
        "  assert type(gradf) is np.ndarray\n",
        "  assert type(alpha_start) is float and alpha_start>=0. \n",
        "  assert type(rho) is float and rho>=0.\n",
        "  assert type(gamma) is float and gamma>=0. \n",
        "  n = len(x)\n",
        "  alpha = alpha_start\n",
        "  p = - gradf \n",
        "  D_k = B_k\n",
        "  while evalf(x + alpha*np.matmul(D_k,p), n) > evalf(x, n) + gamma * alpha* (np.matmul(np.matrix.transpose(gradf), np.matmul(D_k,p)) ):\n",
        "    alpha = alpha * rho\n",
        "  return alpha  "
      ],
      "metadata": {
        "id": "OmbVf-F5oSUV"
      },
      "execution_count": 152,
      "outputs": []
    },
    {
      "cell_type": "code",
      "source": [
        "def find_minimizer_Newton(start_x, n, tol, line_search_type, *args):\n",
        "  assert type(start_x) is np.ndarray and len(start_x) == n\n",
        "  assert type(tol) is float and tol>=0 \n",
        "  \n",
        "  x = start_x\n",
        "  g_x = evalg(x,n)\n",
        "  h_x = evalh(x,n)\n",
        "  x_iter = []\n",
        "  if line_search_type == BACKTRACKING_LINE_SEARCH:\n",
        "      alpha_start = float(args[0])\n",
        "      rho = float(args[1])\n",
        "      gamma = float(args[2])\n",
        "\n",
        "  k = 0\n",
        "  step_length = 1.0\n",
        "  while (np.linalg.norm(g_x) > tol): \n",
        "    D_k = np.linalg.inv(evalh(x, n))\n",
        "    step_length = compute_steplength_backtracking_scaled_direction(x, g_x, alpha_start, rho, gamma, D_k)\n",
        "\n",
        "    x = np.subtract(x, np.multiply(step_length,np.matmul(D_k, g_x))) #update x = x - step_length*g_x\n",
        "    x_iter.append(x)\n",
        "    k += 1 #increment iteration\n",
        "    g_x = evalg(x, n) #compute gradient at new point\n",
        "  return x, x_iter"
      ],
      "metadata": {
        "id": "bfbDi7L-niLI"
      },
      "execution_count": 153,
      "outputs": []
    },
    {
      "cell_type": "code",
      "source": [
        "n = 10\n",
        "my_start_x = np.array([0 for i in range(10)])\n",
        "my_start_x = my_start_x.reshape(10,1)\n",
        "my_tol  = 10**(-5)\n",
        "alpha =0.99\n",
        "rho=0.5\n",
        "gamma=0.5\n",
        "\n",
        "x_arr = []\n",
        "f_arr = []\n",
        "print(\"For Newton's Method : \")\n",
        "time1 = timer()\n",
        "x_star_newton , x_k = find_minimizer_Newton(my_start_x, 10, my_tol, BACKTRACKING_LINE_SEARCH, alpha , rho, gamma)\n",
        "time2 = timer()\n",
        "for i in range(len(x_k)-1):\n",
        "  x_arr.append(math.log(np.linalg.norm(x_k[i] - x_star_newton)))\n",
        "  f_arr.append(math.log(np.linalg.norm(evalf(x_k[i],n) - evalf(x_star_newton,n))))\n",
        "print(\"x_star:\", x_star_newton, \"\\nx_bar:\", x_bar)\n",
        "print(\"f_star:\", evalf(x_star_newton,n), \"\\nf_bar:\", evalf(x_bar,n))\n",
        "print(\"Time taken by Newton's method: \", time2-time1)"
      ],
      "metadata": {
        "colab": {
          "base_uri": "https://localhost:8080/"
        },
        "id": "YsXCIsK2k7-J",
        "outputId": "c92c05ed-9f4c-4430-babe-a9266af2b57e"
      },
      "execution_count": 154,
      "outputs": [
        {
          "output_type": "stream",
          "name": "stdout",
          "text": [
            "For Newton's Method : \n",
            "x_star: [[-1.52615747]\n",
            " [ 2.35933586]\n",
            " [-3.71408745]\n",
            " [ 4.65508607]\n",
            " [-5.79228265]\n",
            " [ 6.05590254]\n",
            " [-7.25518888]\n",
            " [ 8.32369299]\n",
            " [-9.87348466]\n",
            " [10.71878165]] \n",
            "x_bar: [[-1.5598061 ]\n",
            " [ 2.33046007]\n",
            " [-3.6795264 ]\n",
            " [ 4.69010633]\n",
            " [-5.7915437 ]\n",
            " [ 6.06683061]\n",
            " [-7.25068834]\n",
            " [ 8.29645038]\n",
            " [-9.91953898]\n",
            " [10.75357414]]\n",
            "f_star: 504.5963652036184 \n",
            "f_bar: 508.51427768443995\n",
            "Time taken by Newton's method:  0.001548337000713218\n"
          ]
        }
      ]
    },
    {
      "cell_type": "code",
      "source": [
        "plt.plot([i+1 for i in np.arange(len(x_arr))], x_arr,label=r'$ $')\n",
        "plt.title(r'Graph of the values $log(||x^k - x^*||_2$ against Iterations k  using Newtons Method')\n",
        "plt.xlabel('Iterations')\n",
        "plt.ylabel(r'$log(||x^k - x^*||_2$')\n",
        "plt.legend(['$log(||x^k - x^*||_2$'])\n",
        "plt.show()"
      ],
      "metadata": {
        "colab": {
          "base_uri": "https://localhost:8080/",
          "height": 299
        },
        "id": "XVB3WAxB5nT0",
        "outputId": "fa08a24d-71ac-446e-c3e4-f22df8c7c8da"
      },
      "execution_count": 155,
      "outputs": [
        {
          "output_type": "display_data",
          "data": {
            "image/png": "[encoded data removed]",
            "text/plain": [
              "<Figure size 432x288 with 1 Axes>"
            ]
          },
          "metadata": {
            "needs_background": "light"
          }
        }
      ]
    },
    {
      "cell_type": "code",
      "source": [
        "plt.plot([i+1 for i in np.arange(len(f_arr))], f_arr,label=r'$ $')\n",
        "plt.title(r'Graph of the values $log(||f(x^k) - f(x^*)||_2)$ against Iterations k  using newtons Method')\n",
        "plt.xlabel(r'Iterations')\n",
        "plt.ylabel(r'$log(||f(x^k) - f(x^*)||_2)$')\n",
        "plt.legend([r'$log(||f(x^k) - f(x^*)||_2)$'])\n",
        "plt.show()"
      ],
      "metadata": {
        "colab": {
          "base_uri": "https://localhost:8080/",
          "height": 299
        },
        "id": "zm-N_YEx5dZ4",
        "outputId": "d8cc8a05-91d8-49c7-f2a6-255f25161170"
      },
      "execution_count": 156,
      "outputs": [
        {
          "output_type": "display_data",
          "data": {
            "image/png": "[encoded data removed]",
            "text/plain": [
              "<Figure size 432x288 with 1 Axes>"
            ]
          },
          "metadata": {
            "needs_background": "light"
          }
        }
      ]
    },
    {
      "cell_type": "markdown",
      "source": [
        "\n",
        "\n",
        "The condition of Q-Linear is :$\\frac{||x^{k+1} - x^*||_2}{||x^{k} - x^*||_2}\\leq r$, Where $r\\in(0,1)$\n",
        "\n",
        "taking log both side, we get\n",
        "$$log(||x^{k+1} - x^*||_2)-log(||x^k - x^*||_2)\\leq log(r)$$\n",
        "\n",
        "\n",
        "Since $r\\in (0,1)$\n",
        "\n",
        "hence $log(r)< 0$ \n",
        "\n",
        "Hence the condition of Q-Linear becomes:\n",
        "\n",
        "$$log(||x^{k+1} - x^*||_2)-log(||x^k - x^*||_2)\\leq 0$$\n",
        "\n",
        "From the above plots, we can observe that:\n",
        "\n",
        "$log(||x^{k+1} - x^*||_2)-log(||x^k - x^*||_2)$ is negative.\n",
        "\n",
        "\n",
        "Hence, we can say that the Convergence of the function is Q-Linear.\n",
        "\n"
      ],
      "metadata": {
        "id": "AG3mSwYw7nME"
      }
    },
    {
      "cell_type": "markdown",
      "source": [
        "# **Que.3**"
      ],
      "metadata": {
        "id": "3l5mAi4UPFHV"
      }
    },
    {
      "cell_type": "code",
      "source": [
        "def find_minimizer_BFGS_scaling(start_x, n, tol, line_search_type, *args):\n",
        " \n",
        "  assert type(start_x) is np.ndarray and len(start_x) == n \n",
        "  assert type(tol) is float and tol>=0 \n",
        "  \n",
        "  x = start_x\n",
        "  g_x = evalg(x,n)\n",
        "\n",
        "  if line_search_type == BACKTRACKING_LINE_SEARCH:\n",
        "      alpha_start = float(args[0])\n",
        "      rho = float(args[1])\n",
        "      gamma = float(args[2])\n",
        "\n",
        "  k = 0\n",
        "  B_k = np.identity(n)\n",
        "  x_prev = x\n",
        "  x_itr = []\n",
        "  while (np.linalg.norm(g_x) > tol):\n",
        "    step_length = compute_steplength_backtracking_scaled_direction(x_prev, g_x, alpha_start, rho, gamma, B_k)\n",
        "    x_new = np.subtract(x_prev, np.multiply(step_length, np.matmul(B_k,g_x))) \n",
        "    g_x = evalg(x_new,n)\n",
        "    s = np.subtract(x_new, x_prev)\n",
        "    y = np.subtract(evalg(x_new,n), evalg(x_prev,n)) \n",
        "    B_k = compute_B_k(s, y, B_k, n)\n",
        "    x_prev = x_new\n",
        "    k += 1\n",
        "    x_itr.append(x_new)\n",
        "  return x_new,x_itr"
      ],
      "metadata": {
        "id": "sziSxFA8pENW"
      },
      "execution_count": 157,
      "outputs": []
    },
    {
      "cell_type": "code",
      "source": [
        "n=10\n",
        "x_start=np.array([0 for i in range(10)]).reshape(10,1)\n",
        "alpha_start=0.99\n",
        "rho=0.5\n",
        "gamma=0.5\n",
        "my_tol= 1e-5\n",
        "x_bfgs = []\n",
        "f_bfgs = []\n",
        "print(\"BFGS Method optimizers: \")\n",
        "time1_bfgs = timer()\n",
        "x_star_bfgs,x_k1 = find_minimizer_BFGS_scaling(x_start, n, my_tol, BACKTRACKING_LINE_SEARCH, alpha_start, rho, gamma)\n",
        "time2_bfgs = timer()\n",
        "print(\"x_star:\", x_star_bfgs, \"\\nx_bar:\", x_bar)\n",
        "print(\"f_star:\", evalf(x_star_bfgs,n), \"\\nf_bar:\", evalf(x_bar,n))\n",
        "print(\"Time taken by BFGS: \", time2_bfgs - time1_bfgs)\n",
        "for i in range(len(x_k1)-1):\n",
        "  x_bfgs.append(math.log(np.linalg.norm(x_k1[i] - x_star_bfgs)))\n",
        "  f_bfgs.append(math.log(np.linalg.norm(evalf(x_k1[i],n) - evalf(x_star_bfgs,n))))\n"
      ],
      "metadata": {
        "colab": {
          "base_uri": "https://localhost:8080/"
        },
        "id": "j1wCYy80m9T6",
        "outputId": "1f16710f-38e7-4333-c8a7-550cba131fe1"
      },
      "execution_count": 158,
      "outputs": [
        {
          "output_type": "stream",
          "name": "stdout",
          "text": [
            "BFGS Method optimizers: \n",
            "x_star: [[-1.52615747]\n",
            " [ 2.35933586]\n",
            " [-3.71408745]\n",
            " [ 4.65508607]\n",
            " [-5.79228265]\n",
            " [ 6.05590254]\n",
            " [-7.25518888]\n",
            " [ 8.32369299]\n",
            " [-9.87348467]\n",
            " [10.71878165]] \n",
            "x_bar: [[-1.5598061 ]\n",
            " [ 2.33046007]\n",
            " [-3.6795264 ]\n",
            " [ 4.69010633]\n",
            " [-5.7915437 ]\n",
            " [ 6.06683061]\n",
            " [-7.25068834]\n",
            " [ 8.29645038]\n",
            " [-9.91953898]\n",
            " [10.75357414]]\n",
            "f_star: 504.5963652036184 \n",
            "f_bar: 508.51427768443995\n",
            "Time taken by BFGS:  0.02654248300314066\n"
          ]
        }
      ]
    },
    {
      "cell_type": "code",
      "source": [
        "plt.plot([i+1 for i in np.arange(len(x_bfgs))], x_bfgs,label=r'$ $')\n",
        "plt.title('Graph of the values $log(||x^k - x^*||_2$ against Iterations k using BFGS Method')\n",
        "plt.xlabel('Iterations')\n",
        "plt.ylabel('$log(||x^k - x^*||_2$')\n",
        "plt.legend([r'$log(||x^k - x^*||_2$'])\n",
        "plt.show()"
      ],
      "metadata": {
        "colab": {
          "base_uri": "https://localhost:8080/",
          "height": 299
        },
        "id": "8iI94kKNK-1p",
        "outputId": "67a62483-e029-4471-e23e-1fe64915744e"
      },
      "execution_count": 159,
      "outputs": [
        {
          "output_type": "display_data",
          "data": {
            "image/png": "[encoded data removed]",
            "text/plain": [
              "<Figure size 432x288 with 1 Axes>"
            ]
          },
          "metadata": {
            "needs_background": "light"
          }
        }
      ]
    },
    {
      "cell_type": "code",
      "source": [
        "plt.plot([i+1 for i in np.arange(len(f_bfgs))], f_bfgs,label=r'$ $')\n",
        "plt.title(r'Graph of the values $log(||f(x^k) - f(x^*)||_2)$ against Iterations k  using BFGS Method')\n",
        "plt.xlabel(r'Iterations')\n",
        "plt.ylabel(r'$log(||f(x^k) - f(x^*)||_2)$')\n",
        "plt.legend([r'$log(||f(x^k) - f(x^*)||_2)$'])\n",
        "plt.show()"
      ],
      "metadata": {
        "colab": {
          "base_uri": "https://localhost:8080/",
          "height": 299
        },
        "id": "4an90lwcLGy5",
        "outputId": "18cc1e83-2970-403c-da45-210b41993719"
      },
      "execution_count": 160,
      "outputs": [
        {
          "output_type": "display_data",
          "data": {
            "image/png": "[encoded data removed]",
            "text/plain": [
              "<Figure size 432x288 with 1 Axes>"
            ]
          },
          "metadata": {
            "needs_background": "light"
          }
        }
      ]
    },
    {
      "cell_type": "markdown",
      "source": [
        "In the above plots, we can observe that for sufficiently large values of iterations the value of $log(||x^{k+1} - x^*||_2)-log(||x^k - x^*||_2)$ is negative, hence the convergence of function is Q-Linear."
      ],
      "metadata": {
        "id": "UPJ8eqCuCrG2"
      }
    },
    {
      "cell_type": "markdown",
      "source": [
        "# **Que.4**\n",
        "\n",
        "\n",
        "\n"
      ],
      "metadata": {
        "id": "K5hzsCgyPVqA"
      }
    },
    {
      "cell_type": "code",
      "source": [
        "print(\"Time taken by Newton's method: \", time2-time1)\n",
        "print(\"Time taken by BFGS: \", time2_bfgs - time1_bfgs)"
      ],
      "metadata": {
        "colab": {
          "base_uri": "https://localhost:8080/"
        },
        "id": "he8QY0DtXBrH",
        "outputId": "396e5f1c-f15b-4f8a-91d1-bd028a11755a"
      },
      "execution_count": 161,
      "outputs": [
        {
          "output_type": "stream",
          "name": "stdout",
          "text": [
            "Time taken by Newton's method:  0.001548337000713218\n",
            "Time taken by BFGS:  0.02654248300314066\n"
          ]
        }
      ]
    },
    {
      "cell_type": "markdown",
      "source": [
        "We can see that time taken by Newton's method to find the optimizer is comparatively less than the time taken by BFGS method. The value of optimizer is almost equal for both methods and the value of function at $x^*$ and $\\bar{x}$ doesn't differ much.and I also observed that the Newton's method takes less iterations to terminate as compare to the BFGS method. Therefore, **we can conclude that the Newton's method is faster than BFGS method**"
      ],
      "metadata": {
        "id": "wsizaY4o2LMp"
      }
    },
    {
      "cell_type": "code",
      "source": [
        ""
      ],
      "metadata": {
        "id": "joJtO19p2LlZ"
      },
      "execution_count": 161,
      "outputs": []
    }
  ]
}