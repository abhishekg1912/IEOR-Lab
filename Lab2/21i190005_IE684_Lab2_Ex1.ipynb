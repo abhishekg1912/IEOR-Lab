{
  "nbformat": 4,
  "nbformat_minor": 0,
  "metadata": {
    "colab": {
      "name": "21i190005_IE684_Lab2_Ex1.ipynb",
      "provenance": [],
      "collapsed_sections": []
    },
    "kernelspec": {
      "name": "python3",
      "display_name": "Python 3"
    }
  },
  "cells": [
    {
      "cell_type": "markdown",
      "metadata": {
        "id": "nVE0Xoa0Q5wE"
      },
      "source": [
        "$\\Large\\textbf{Lab 2. Exercise 1. }$\n",
        "\n"
      ]
    },
    {
      "cell_type": "markdown",
      "metadata": {
        "id": "YVkab74DJsRL"
      },
      "source": [
        "Recall that we implemented the gradient descent algorithm to solve $\\min_{\\mathbf{x} \\in {\\mathbb{R}}^n} f(\\mathbf{x})$. The main ingredients in the gradient descent iterations are the descent direction $\\mathbf{p}^k$ which is set to $-\\nabla f(\\mathbf{x}^k)$, and the step length $\\eta^k$ which is found by solving an optimization problem (or sometimes taken as a constant value over all iterations). We used the following procedure in the previous lab:\n",
        "\n",
        "\\begin{align}\n",
        "& \\textbf{Input:} \\text{ Starting point $x^0$, Stopping tolerance $\\tau$}  \\\\\n",
        "& \\textbf{Initialize } k=0 \\\\ \n",
        "& \\mathbf{p}^k =-\\nabla f(\\mathbf{x}^k) \\\\ \n",
        "&\\textbf{While } \\| \\mathbf{p}^k \\|_2 > \\tau \\text{ do:}  \\\\   \n",
        "&\\quad \\quad \\eta^k = \\arg\\min_{\\eta\\geq 0} f(\\mathbf{x}^k + \\eta  \\mathbf{p}^k) = \\arg\\min_{\\eta\\geq 0} f(\\mathbf{x}^k - \\eta  \\nabla f(\\mathbf{x}^k)) \\\\\n",
        "&\\quad \\quad \\mathbf{x}^{k+1} = \\mathbf{x}^k + \\eta^k \\mathbf{p}^k = \\mathbf{x}^k - \\eta^k \\nabla f (\\mathbf{x}^k)  \\\\ \n",
        "&\\quad \\quad k = {k+1} \\\\ \n",
        "&\\textbf{End While} \\\\\n",
        "&\\textbf{Output: } \\mathbf{x}^k\n",
        "\\end{align}"
      ]
    },
    {
      "cell_type": "markdown",
      "metadata": {
        "id": "g7ivDCuJRP9b"
      },
      "source": [
        "We saw that for particular cases of quadratic functions, a closed form analytical solution for the minimizer of the optimization problem $\\min_{\\eta \\geq 0} f({\\mathbf{x}}^k + \\eta {\\mathbf{p}}^k)$ exists. However finding a closed form expression as a solution to this optimization problem to find a suitable step length might not always be possible. To tackle general situations, we will try to devise a different procedure in this lab. \n",
        "\n",
        "To find the step length, we will use the following property: \n",
        "Suppose a non-zero $\\mathbf{p} \\in {\\mathbb{R}}^n$ is a descent direction at point $\\mathbf{x}$, and let $\\gamma \\in (0,1)$. Then there exists $\\varepsilon >0$ such that  \n",
        "\\begin{align}\n",
        "f(\\mathbf{x}+\\alpha \\mathbf{p}) \\leq f(\\mathbf{x}) + \\gamma \\alpha \\nabla f(\\mathbf{x})^\\top \\mathbf{p}, \\ \\forall \\alpha \\in (0,\\varepsilon].  \n",
        "\\end{align}\n",
        "\n",
        "The step length $\\eta^k$ can be found using a backtracking procedure illustrated below to find appropriate value of $\\varepsilon$.  \n",
        "\n"
      ]
    },
    {
      "cell_type": "markdown",
      "metadata": {
        "id": "WV6OddaNAmpA"
      },
      "source": [
        "\n",
        "\\begin{align}\n",
        "& \\textbf{Input:}  \\text{ $\\mathbf{x}^k$, $\\mathbf{p}^k$, $\\alpha^0$, $\\rho \\in (0,1)$, $\\gamma \\in (0,1)$ }  \\\\\n",
        "& \\textbf{Initialize } \\alpha=\\alpha^0 \\\\ \n",
        "&\\textbf{While } f(\\mathbf{x}^k + \\alpha \\mathbf{p}^k)   > f(\\mathbf{x}^k) + \\gamma \\alpha \\nabla f(\\mathbf{x}^k)^\\top \\mathbf{p}^k \\text{ do:}  \\\\   \n",
        "&\\quad \\quad \\alpha = \\rho \\alpha  \\\\\n",
        "&\\textbf{End While} \\\\\n",
        "&\\textbf{Output: } \\alpha\n",
        "\\end{align}"
      ]
    },
    {
      "cell_type": "markdown",
      "metadata": {
        "id": "iW-xcDISWmGR"
      },
      "source": [
        "In this exercise, we will check if finding the steplength using the backtracking procedure is advantageous for some quadratic functions. In this sample code we consider $f(\\mathbf{x})=f(x_1,x_2) = (x_1-8)^2 + (x_2 + 12)^2$."
      ]
    },
    {
      "cell_type": "code",
      "metadata": {
        "id": "KJq7tIgIRroP"
      },
      "source": [
        "#numpy package will be used for most of our lab exercises. Please have a look at Please have a look at https://numpy.org/doc/stable/ for numpy documentation\n",
        "#we will first import the numpy package and name it as np\n",
        "import numpy as np \n",
        "#Henceforth, we can lazily use np to denote the much longer numpy !! "
      ],
      "execution_count": 1,
      "outputs": []
    },
    {
      "cell_type": "code",
      "metadata": {
        "id": "GZjX2IwOR8_X"
      },
      "source": [
        "#Now we will define a function which will compute and return the function value \n",
        "def evalf(x):  \n",
        "  #Input: x is a numpy array of size 2 \n",
        "  assert type(x) is np.ndarray and len(x) == 2 #do not allow arbitrary arguments \n",
        "  #after checking if the argument is valid, we can compute the objective function value\n",
        "  #compute the function value and return it \n",
        "  return (x[1]+12)**2 + (-8+x[0])**2\n"
      ],
      "execution_count": 2,
      "outputs": []
    },
    {
      "cell_type": "code",
      "metadata": {
        "id": "6klpwtDra_I8"
      },
      "source": [
        "#Now we will define a function which will compute and return the gradient value as a numpy array \n",
        "def evalg(x):  \n",
        "  #Input: x is a numpy array of size 2 \n",
        "  assert type(x) is np.ndarray and len(x) == 2 #do not allow arbitrary arguments \n",
        "  #after checking if the argument is valid, we can compute the gradient value\n",
        "  #compute the gradient value and return it \n",
        "  return np.array([2*(x[0]-8), 2*(x[1]+12)])"
      ],
      "execution_count": 3,
      "outputs": []
    },
    {
      "cell_type": "code",
      "metadata": {
        "id": "f3blM08V0HOl"
      },
      "source": [
        "#Complete the module to compute the steplength by using the closed-form expression\n",
        "def compute_steplength_exact(gradf, A): #add appropriate arguments to the function \n",
        "  assert type(gradf) is np.ndarray and len(gradf) == 2 \n",
        "  assert type(A) is np.ndarray and A.shape[0] == 2 and  A.shape[1] == 2 #allow only a 2x2 array\n",
        "   \n",
        "  #Complete the code to compute step length\n",
        "  step_length=(np.dot(gradf.T,gradf)) / (np.matmul(np.matmul(gradf,2*A),gradf)) \n",
        "  \n",
        "  return step_length"
      ],
      "execution_count": 4,
      "outputs": []
    },
    {
      "cell_type": "code",
      "metadata": {
        "id": "PGunDYy6Q21S"
      },
      "source": [
        "#Complete the module to compute the steplength by using the backtracking line search\n",
        "def compute_steplength_backtracking(x, gradf, alpha_start, rho, gamma): #add appropriate arguments to the function \n",
        "  assert type(x) is np.ndarray and len(gradf) == 2 \n",
        "  assert type(gradf) is np.ndarray and len(gradf) == 2 \n",
        "  \n",
        "  alpha = alpha_start\n",
        "  p=rho\n",
        "  y=gamma\n",
        "  #implement the backtracking line search\n",
        "  while evalf(x+alpha*(-gradf)) > evalf(x)-y*alpha*np.dot((gradf.T),gradf):\n",
        "    alpha=p*alpha\n",
        "\n",
        "\n",
        "  #print('final step length:',alpha)\n",
        "  return alpha"
      ],
      "execution_count": 5,
      "outputs": []
    },
    {
      "cell_type": "code",
      "metadata": {
        "id": "WaUUdzLtVSCl"
      },
      "source": [
        "#we define the types of line search methods that we have implemented\n",
        "EXACT_LINE_SEARCH = 1\n",
        "BACKTRACKING_LINE_SEARCH = 2\n",
        "CONSTANT_STEP_LENGTH = 3"
      ],
      "execution_count": 6,
      "outputs": []
    },
    {
      "cell_type": "code",
      "metadata": {
        "id": "3SCJdqivdpxx"
      },
      "source": [
        "def find_minimizer(start_x, tol, line_search_type, *args):\n",
        "  #Input: start_x is a numpy array of size 2, tol denotes the tolerance and is a positive float value\n",
        "  assert type(start_x) is np.ndarray and len(start_x) == 2 #do not allow arbitrary arguments \n",
        "  assert type(tol) is float and tol>=0 \n",
        "  # construct a suitable A matrix for the quadratic function \n",
        "  A = np.array([[1, 0],[0,1]])\n",
        "  x = start_x\n",
        "  g_x = evalg(x)\n",
        "\n",
        "  #initialization for backtracking line search\n",
        "  if(line_search_type == BACKTRACKING_LINE_SEARCH):\n",
        "    alpha_start = args[0]\n",
        "    rho = args[1]\n",
        "    gamma = args[2]\n",
        "    print('Params for Backtracking LS: alpha start:', alpha_start, 'rho:', rho,' gamma:', gamma)\n",
        "\n",
        "  k = 0\n",
        "  #print('iter:',k, ' x:', x, ' f(x):', evalf(x), ' grad at x:', g_x, ' gradient norm:', np.linalg.norm(g_x))\n",
        "\n",
        "  while (np.linalg.norm(g_x) > tol): #continue as long as the norm of gradient is not close to zero upto a tolerance tol\n",
        "  \n",
        "    if line_search_type == EXACT_LINE_SEARCH:\n",
        "      step_length = compute_steplength_exact(g_x, A) #call the new function you wrote to compute the steplength\n",
        "      #raise ValueError('EXACT LINE SEARCH NOT YET IMPLEMENTED')\n",
        "    elif line_search_type == BACKTRACKING_LINE_SEARCH:\n",
        "      step_length = compute_steplength_backtracking(x,g_x, alpha_start,rho, gamma) #call the new function you wrote to compute the steplength\n",
        "      #raise ValueError('BACKTRACKING LINE SEARCH NOT YET IMPLEMENTED')\n",
        "    elif line_search_type == CONSTANT_STEP_LENGTH: #do a gradient descent with constant step length\n",
        "      step_length = 0.1\n",
        "    else:  \n",
        "      raise ValueError('Line search type unknown. Please check!')\n",
        "    \n",
        "    #implement the gradient descent steps here   \n",
        "    x = np.subtract(x, np.multiply(step_length,g_x)) #update x = x - step_length*g_x\n",
        "    k += 1 #increment iteration\n",
        "    g_x = evalg(x) #compute gradient at new point\n",
        "\n",
        "    #print('iter:',k, ' x:', x, ' f(x):', evalf(x), ' grad at x:', g_x, ' gradient norm:', np.linalg.norm(g_x))\n",
        "  return x ,k\n"
      ],
      "execution_count": 7,
      "outputs": []
    },
    {
      "cell_type": "markdown",
      "source": [
        "#Que.3"
      ],
      "metadata": {
        "id": "FH0xJdWS9hKU"
      }
    },
    {
      "cell_type": "code",
      "metadata": {
        "id": "n-kHCkbwe-M4",
        "colab": {
          "base_uri": "https://localhost:8080/"
        },
        "outputId": "40305936-dbb3-49f1-f7e5-cfffa90eebda"
      },
      "source": [
        "\n",
        "my_start_x = np.array([1,1])\n",
        "my_tol= 1e-5\n",
        "\n",
        "\n",
        "x_opt,iterations = find_minimizer(my_start_x, my_tol, CONSTANT_STEP_LENGTH)\n",
        "print(f'Value of optimizer for constant step length= {x_opt} and minimum value is= {evalf(x_opt)} ')\n",
        "\n",
        "#check what happens when you call find_minimzer using backtracking line search\n",
        "x_opt_bls,iterations = find_minimizer(my_start_x, my_tol, BACKTRACKING_LINE_SEARCH, 1, 0.5,0.5)\n",
        "print(f\"Value of optimizer for Backtracking line search ={x_opt_bls} and minimum value is= {evalf(x_opt_bls)}\")\n"
      ],
      "execution_count": 8,
      "outputs": [
        {
          "output_type": "stream",
          "name": "stdout",
          "text": [
            "Value of optimizer for constant step length= [  7.99999775 -11.99999582] and minimum value is= 2.2517218946096954e-11 \n",
            "Params for Backtracking LS: alpha start: 1 rho: 0.5  gamma: 0.5\n",
            "Value of optimizer for Backtracking line search =[  8. -12.] and minimum value is= 0.0\n"
          ]
        }
      ]
    },
    {
      "cell_type": "markdown",
      "source": [
        "#Que.4"
      ],
      "metadata": {
        "id": "WnKQX4Lm9zmL"
      }
    },
    {
      "cell_type": "code",
      "metadata": {
        "id": "GcsCIAntMNdb",
        "colab": {
          "base_uri": "https://localhost:8080/"
        },
        "outputId": "cced1bf3-fed7-4b1d-d629-d94f7ada5c62"
      },
      "source": [
        "my_start_x = np.array([25,25])\n",
        "my_tol= 1e-12\n",
        "x_opt,iterations = find_minimizer(my_start_x, my_tol, EXACT_LINE_SEARCH)\n",
        "print(f'Value of optimizer for exact step length= {x_opt}, minimum value is= {evalf(x_opt)} and number of iterations= {iterations} ')\n"
      ],
      "execution_count": 9,
      "outputs": [
        {
          "output_type": "stream",
          "name": "stdout",
          "text": [
            "Value of optimizer for exact step length= [  8. -12.], minimum value is= 0.0 and number of iterations= 1 \n"
          ]
        }
      ]
    },
    {
      "cell_type": "code",
      "source": [
        "my_start_x = np.array([25,25])\n",
        "my_tol= 1e-12\n",
        "x_opt_bls,iterations = find_minimizer(my_start_x, my_tol, BACKTRACKING_LINE_SEARCH, 1, 0.5,0.5)\n",
        "print(f\"Value of optimizer for Backtracking line search ={x_opt_bls}, minimum value is= {evalf(x_opt_bls)} and number of iterations are= {iterations}\")"
      ],
      "metadata": {
        "colab": {
          "base_uri": "https://localhost:8080/"
        },
        "id": "Bd8bGPRy-64T",
        "outputId": "a364280e-78df-472e-9573-8b527e11c05b"
      },
      "execution_count": 10,
      "outputs": [
        {
          "output_type": "stream",
          "name": "stdout",
          "text": [
            "Params for Backtracking LS: alpha start: 1 rho: 0.5  gamma: 0.5\n",
            "Value of optimizer for Backtracking line search =[  8. -12.], minimum value is= 0.0 and number of iterations are= 1\n"
          ]
        }
      ]
    },
    {
      "cell_type": "markdown",
      "source": [
        "In both methods no of iterations taken by method is equal and equal to 1"
      ],
      "metadata": {
        "id": "wuQknofi_Wvb"
      }
    },
    {
      "cell_type": "markdown",
      "source": [
        "#Que.5"
      ],
      "metadata": {
        "id": "MDHjpwzk_gjN"
      }
    },
    {
      "cell_type": "code",
      "source": [
        "my_start_x=np.array([25,25])\n",
        "my_tol=10**(-10)\n",
        "list_of_alpha=[1,0.9,0.75,0.6,0.5,0.4,0.25,0.1,0.01]\n",
        "no_of_iterations=[]\n",
        "list_of_opt=[]\n",
        "list_of_minimum_value=[]\n",
        "for a in list_of_alpha:\n",
        "  print(f\"\\nFor alpha = {a}\")\n",
        "  x_opt_bls,iterations = find_minimizer(my_start_x, my_tol, BACKTRACKING_LINE_SEARCH, a, 0.5,0.5)\n",
        "  print(f\"Value of optimizer is= {x_opt_bls}, minimum value is= {evalf(x_opt_bls)} and number of iterations are= {iterations}\")\n",
        "  no_of_iterations.append(iterations)\n",
        "  list_of_opt.append(x_opt_bls)\n",
        "  list_of_minimum_value.append(evalf(x_opt_bls))\n"
      ],
      "metadata": {
        "colab": {
          "base_uri": "https://localhost:8080/"
        },
        "id": "BmEw1n2y_gAW",
        "outputId": "bdf65c34-af98-41db-a8f5-80cfd40b2e35"
      },
      "execution_count": 11,
      "outputs": [
        {
          "output_type": "stream",
          "name": "stdout",
          "text": [
            "\n",
            "For alpha = 1\n",
            "Params for Backtracking LS: alpha start: 1 rho: 0.5  gamma: 0.5\n",
            "Value of optimizer is= [  8. -12.], minimum value is= 0.0 and number of iterations are= 1\n",
            "\n",
            "For alpha = 0.9\n",
            "Params for Backtracking LS: alpha start: 0.9 rho: 0.5  gamma: 0.5\n",
            "Value of optimizer is= [  8. -12.], minimum value is= 1.6579714975258972e-21 and number of iterations are= 12\n",
            "\n",
            "For alpha = 0.75\n",
            "Params for Backtracking LS: alpha start: 0.75 rho: 0.5  gamma: 0.5\n",
            "Value of optimizer is= [  8. -12.], minimum value is= 1.3714654556129199e-21 and number of iterations are= 20\n",
            "\n",
            "For alpha = 0.6\n",
            "Params for Backtracking LS: alpha start: 0.6 rho: 0.5  gamma: 0.5\n",
            "Value of optimizer is= [  8. -12.], minimum value is= 2.2038291998576117e-21 and number of iterations are= 30\n",
            "\n",
            "For alpha = 0.5\n",
            "Params for Backtracking LS: alpha start: 0.5 rho: 0.5  gamma: 0.5\n",
            "Value of optimizer is= [  8. -12.], minimum value is= 0.0 and number of iterations are= 1\n",
            "\n",
            "For alpha = 0.4\n",
            "Params for Backtracking LS: alpha start: 0.4 rho: 0.5  gamma: 0.5\n",
            "Value of optimizer is= [  8. -12.], minimum value is= 1.1393259623274523e-22 and number of iterations are= 18\n",
            "\n",
            "For alpha = 0.25\n",
            "Params for Backtracking LS: alpha start: 0.25 rho: 0.5  gamma: 0.5\n",
            "Value of optimizer is= [  8. -12.], minimum value is= 1.3714654556129199e-21 and number of iterations are= 40\n",
            "\n",
            "For alpha = 0.1\n",
            "Params for Backtracking LS: alpha start: 0.1 rho: 0.5  gamma: 0.5\n",
            "Value of optimizer is= [  8. -12.], minimum value is= 2.3972320602008796e-21 and number of iterations are= 123\n",
            "\n",
            "For alpha = 0.01\n",
            "Params for Backtracking LS: alpha start: 0.01 rho: 0.5  gamma: 0.5\n",
            "Value of optimizer is= [  8. -12.], minimum value is= 2.4523367712209537e-21 and number of iterations are= 1358\n"
          ]
        }
      ]
    },
    {
      "cell_type": "code",
      "source": [
        "import matplotlib.pyplot as plt\n",
        "plt.plot(list_of_alpha,no_of_iterations)\n",
        "plt.ylabel('Iterations')\n",
        "plt.xlabel('Alpha')\n",
        "plt.show()"
      ],
      "metadata": {
        "colab": {
          "base_uri": "https://localhost:8080/",
          "height": 280
        },
        "id": "DKzmiA5HAyA4",
        "outputId": "4b524c99-c627-4ec4-bec5-d591c8d4da91"
      },
      "execution_count": 12,
      "outputs": [
        {
          "output_type": "display_data",
          "data": {
            "image/png": "[encoded data removed]",
            "text/plain": [
              "<Figure size 432x288 with 1 Axes>"
            ]
          },
          "metadata": {
            "needs_background": "light"
          }
        }
      ]
    },
    {
      "cell_type": "markdown",
      "source": [
        "As we decrease the value of alpha from 1 to 0.5 the number of iterations increases,but at alpha= 1 and 0.5 the number of iteration is 1 and after this if we decrease the value of alpha from 0.5 to 0.01 the number of iterations increases. for alpha equal to 1 and 0.5, the number of iteration is 1 it means that these two values are the most suitable values.\n",
        "for each value of the alpha the minimum value of the function is approaching to zero.\n",
        "\n",
        "As we have calculated above the exact line search method is taking 1 iteration to terminate and for alpha= 0.5 and 1 the backtracking algorithm is taking 1 iteration to terminate,and for other values of alpha backtracking algorithm is taking more iterations. hence we can conclude that the exact line search is faster algorithm but it can't be used for general purposes."
      ],
      "metadata": {
        "id": "KFh4iwuoRttp"
      }
    },
    {
      "cell_type": "markdown",
      "source": [
        "#Que.6"
      ],
      "metadata": {
        "id": "uFN6GNqxBdrK"
      }
    },
    {
      "cell_type": "code",
      "source": [
        "my_start_x=np.array([25,25])\n",
        "my_tol=10**(-10)\n",
        "list_of_rho=[0.9, 0.75, 0.6, 0.5, 0.4, 0.25, 0.1, 0.01]\n",
        "no_of_iterations=[]\n",
        "list_of_opt=[]\n",
        "list_of_minimum_value=[]\n",
        "for r in list_of_rho:\n",
        "  print(f\"\\nFor rho = {r}\")\n",
        "  x_opt_bls,iterations = find_minimizer(my_start_x, my_tol, BACKTRACKING_LINE_SEARCH, 1, r,0.5)\n",
        "  print(f\"Value of optimizer is= {x_opt_bls}, minimum value is= {evalf(x_opt_bls)} and number of iterations are= {iterations}\")\n",
        "  no_of_iterations.append(iterations)\n",
        "  list_of_opt.append(x_opt_bls)\n",
        "  list_of_minimum_value.append(evalf(x_opt_bls))"
      ],
      "metadata": {
        "colab": {
          "base_uri": "https://localhost:8080/"
        },
        "id": "d6N852kvBgS_",
        "outputId": "282467e9-61e6-4a60-e3ab-40a3fd9d11f1"
      },
      "execution_count": 13,
      "outputs": [
        {
          "output_type": "stream",
          "name": "stdout",
          "text": [
            "\n",
            "For rho = 0.9\n",
            "Params for Backtracking LS: alpha start: 1 rho: 0.9  gamma: 0.5\n",
            "Value of optimizer is= [  8. -12.], minimum value is= 4.960536411900771e-22 and number of iterations are= 9\n",
            "\n",
            "For rho = 0.75\n",
            "Params for Backtracking LS: alpha start: 1 rho: 0.75  gamma: 0.5\n",
            "Value of optimizer is= [  8. -12.], minimum value is= 1.0819468296335504e-21 and number of iterations are= 15\n",
            "\n",
            "For rho = 0.6\n",
            "Params for Backtracking LS: alpha start: 1 rho: 0.6  gamma: 0.5\n",
            "Value of optimizer is= [  8. -12.], minimum value is= 7.844395544174143e-22 and number of iterations are= 22\n",
            "\n",
            "For rho = 0.5\n",
            "Params for Backtracking LS: alpha start: 1 rho: 0.5  gamma: 0.5\n",
            "Value of optimizer is= [  8. -12.], minimum value is= 0.0 and number of iterations are= 1\n",
            "\n",
            "For rho = 0.4\n",
            "Params for Backtracking LS: alpha start: 1 rho: 0.4  gamma: 0.5\n",
            "Value of optimizer is= [  8. -12.], minimum value is= 1.1393259623274523e-22 and number of iterations are= 18\n",
            "\n",
            "For rho = 0.25\n",
            "Params for Backtracking LS: alpha start: 1 rho: 0.25  gamma: 0.5\n",
            "Value of optimizer is= [  8. -12.], minimum value is= 1.3714654556129199e-21 and number of iterations are= 40\n",
            "\n",
            "For rho = 0.1\n",
            "Params for Backtracking LS: alpha start: 1 rho: 0.1  gamma: 0.5\n",
            "Value of optimizer is= [  8. -12.], minimum value is= 2.3972320602008796e-21 and number of iterations are= 123\n",
            "\n",
            "For rho = 0.01\n",
            "Params for Backtracking LS: alpha start: 1 rho: 0.01  gamma: 0.5\n",
            "Value of optimizer is= [  8. -12.], minimum value is= 2.4523367712209537e-21 and number of iterations are= 1358\n"
          ]
        }
      ]
    },
    {
      "cell_type": "code",
      "source": [
        "plt.plot(list_of_rho,no_of_iterations)\n",
        "plt.ylabel('Iterations')\n",
        "plt.xlabel('rho')\n",
        "plt.show()"
      ],
      "metadata": {
        "colab": {
          "base_uri": "https://localhost:8080/",
          "height": 280
        },
        "id": "0HvOgG2BCKig",
        "outputId": "5e3eaa4b-b76b-4d95-b1d2-beb45ff935ae"
      },
      "execution_count": 14,
      "outputs": [
        {
          "output_type": "display_data",
          "data": {
            "image/png": "[encoded data removed]",
            "text/plain": [
              "<Figure size 432x288 with 1 Axes>"
            ]
          },
          "metadata": {
            "needs_background": "light"
          }
        }
      ]
    },
    {
      "cell_type": "markdown",
      "source": [
        "As we decrease the value of rho from 0.9 to 0.5 the number of iterations increases but at rho=0.5 the number of iterations is 1 and after this if we decrease the value of rho from 0.5 to 0.01 the number of iterations increases. At rho= 0.5 the number of iteration is 1 it means that it is the more suitable value for this method. and for each value of rho the minimum value of the function is approaching to zero.\n",
        "\n",
        "As we have calculated above the exact line search method is taking 1 iteration to terminate and for rho=0.5 the backtracking algorithm is also taking 1 iteration to terminate,and for other values of rho backtracking algorithm is taking more iterations. hence we can conclude that the exact line search is faster algorithm but it can't be used for general purposes."
      ],
      "metadata": {
        "id": "OecqrHSaR9xs"
      }
    },
    {
      "cell_type": "code",
      "source": [
        ""
      ],
      "metadata": {
        "id": "MzPjGepNTGKK"
      },
      "execution_count": 14,
      "outputs": []
    }
  ]
}