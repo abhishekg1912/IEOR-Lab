{
  "nbformat": 4,
  "nbformat_minor": 0,
  "metadata": {
    "colab": {
      "name": "21i190005_IE684_Lab3_Ex1.ipynb",
      "provenance": [],
      "collapsed_sections": []
    },
    "kernelspec": {
      "name": "python3",
      "display_name": "Python 3"
    }
  },
  "cells": [
    {
      "cell_type": "markdown",
      "metadata": {
        "id": "nVE0Xoa0Q5wE"
      },
      "source": [
        "$\\Large\\textbf{Lab 3.}$ $\\large\\textbf{Exercise 1.}$\n",
        "\n"
      ]
    },
    {
      "cell_type": "markdown",
      "metadata": {
        "id": "YVkab74DJsRL"
      },
      "source": [
        "In the last lab, when we tried to solve certain problems of the form $\\min_{\\mathbf{x} \\in {\\mathbb{R}}^n} f(\\mathbf{x})$ using gradient descent algorithm, we noticed that the algorithm needed a large number of iterations to find the minimizer. Today we will discuss some remedy measures for this issue.  "
      ]
    },
    {
      "cell_type": "markdown",
      "metadata": {
        "id": "b-Meohokl4xP"
      },
      "source": [
        "Consider the problem $\\min_{\\mathbf{x}} f(\\mathbf{x}) = 1500x_1^2 + 4x_1 x_2 +  x_2^2$. "
      ]
    },
    {
      "cell_type": "markdown",
      "metadata": {
        "id": "ZvWjvAgnXxS3"
      },
      "source": [
        "Note that the function $f(\\mathbf{x})$ is twice continuously differentiable. First let us investigate the Hessian $\\nabla^2 f(\\mathbf{x})$ of the function. \n",
        "\n",
        "Note that the Hessian $\\nabla^2 f(\\mathbf{x})$ of the function $f(\\mathbf{x})$ is positive definite. \n",
        "\n",
        "Due to the positive definite nature of the Hessian, we shall find the condition number of the Hessian given by $\\kappa\\left (\\nabla^2 f(\\mathbf{x}) \\right ) = \\frac{\\lambda_{\\max} \\left (\\nabla^2 f(\\mathbf{x}) \\right )}{\\lambda_{\\min} \\left (\\nabla^2 f(\\mathbf{x}) \\right )}$, where $\\lambda_{\\max}(\\mathbf{A})$ denotes the maximum eigen value of matrix $\\mathbf{A}$ and $\\lambda_{\\min}(\\mathbf{A})$ denotes the minimum eigen value of matrix $\\mathbf{A}$.  \n",
        "\n",
        "\n"
      ]
    },
    {
      "cell_type": "markdown",
      "metadata": {
        "id": "fLfdgrmxANif"
      },
      "source": [
        "$\\textbf{Question:2}$ Write code to find the Hessian matrix of the function $f(\\mathbf{x}) = 1500x_1^2 + 4x_1 x_2 +  x_2^2$ and its condition number. "
      ]
    },
    {
      "cell_type": "code",
      "metadata": {
        "id": "72qwiJ0CDtOX"
      },
      "source": [
        "import numpy as np \n",
        "\n",
        "#method to find Hessian matrix: Complete the code\n",
        "def evalh(x): \n",
        "  assert type(x) is np.ndarray \n",
        "  assert len(x) == 2\n",
        "  return np.array([[3000,4],[4,2]])\n",
        "\n",
        "#method to find the condition number of any square matrix: : Complete the code\n",
        "def find_condition_number(A):\n",
        "  assert type(A) is np.ndarray\n",
        "  assert A.shape[0] == A.shape[1]\n",
        "  eig_value=np.linalg.eigvals(A)\n",
        "  return max(eig_value)/min(eig_value)"
      ],
      "execution_count": 31,
      "outputs": []
    },
    {
      "cell_type": "code",
      "source": [
        "A=evalh(np.array([1,2]))"
      ],
      "metadata": {
        "id": "xo123tJKkn4E"
      },
      "execution_count": 32,
      "outputs": []
    },
    {
      "cell_type": "code",
      "source": [
        "find_condition_number(A)"
      ],
      "metadata": {
        "colab": {
          "base_uri": "https://localhost:8080/"
        },
        "id": "BKJJKmgXljZP",
        "outputId": "fa82b1ca-57d7-4a02-a848-edd80a53f43e"
      },
      "execution_count": 33,
      "outputs": [
        {
          "output_type": "execute_result",
          "data": {
            "text/plain": [
              "1504.0160463434236"
            ]
          },
          "metadata": {},
          "execution_count": 33
        }
      ]
    },
    {
      "cell_type": "markdown",
      "metadata": {
        "id": "g7ivDCuJRP9b"
      },
      "source": [
        "The condition number of the Hessian plays a major role in the progress of the iterates of gradient descent towards the optimal solution point. Typically a large value of the condition number indicates that the problem is $\\textbf{ill-conditioned}$ and hence leads to slow progress of the iterates towards the optimal solution point. Now we shall discuss a method which would help in better $\\textbf{conditioning}$ of the problem and hence would help in speeding up the progress of the iterates towards the optimal solution point. \n",
        "\n",
        "Let us first illustrate an equivalent transformation of the problem $\\min_{\\mathbf{x} \\in {\\mathbb{R}}^n} f(\\mathbf{x})$. Consider the transformation $\\mathbf{x}=\\mathbf{My}$ where $\\mathbf{M}\\in {\\mathbb{R}}^{n \\times n}$ is an invertible matrix and $\\mathbf{y} \\in {\\mathbb{R}}^n$ and consider the equivalent problem $\\min_{\\mathbf{y} \\in {\\mathbb{R}}^n} g(\\mathbf{y}) \\equiv \\min_{\\mathbf{y} \\in {\\mathbb{R}}^n} f(\\mathbf{My})$. \n",
        "\n",
        "$\\textbf{Check:}$ Why are the two problems $\\min_{\\mathbf{x} \\in {\\mathbb{R}}^n} f(\\mathbf{x})$ and $\\min_{\\mathbf{y} \\in {\\mathbb{R}}^n} g(\\mathbf{y})$  equivalent? \n",
        "\n",
        "Note that the gradient $\\nabla_{\\mathbf{y}} g(\\mathbf{y}) = \\mathbf{M}^\\top \\nabla_{\\mathbf{x}} f(\\mathbf{x})$ and the Hessian is $\\nabla^2_{\\mathbf{y}} g(\\mathbf{y}) = \\mathbf{M}^\\top \\nabla^2_{\\mathbf{x}} f(\\mathbf{x}) \\mathbf{M}$. \n",
        "\n",
        "Hence the gradient descent update to solve $\\min_{\\mathbf{y} \\in {\\mathbb{R}}^n} g(\\mathbf{y})$ becomes: \n",
        "\n",
        "\n",
        "\\begin{align}\n",
        "{\\mathbf{y}}^{k+1} &= {\\mathbf{y}}^{k} - \\eta \\nabla_{\\mathbf{y}} g({\\mathbf{y}}^{k}) \\\\\n",
        "\\end{align}\n",
        "\n",
        "Pre-multiplying by $\\mathbf{M}$, we have:\n",
        "\\begin{align}\n",
        "{\\mathbf{M}\\mathbf{y}}^{k+1} &= {\\mathbf{M}\\mathbf{y}}^{k} -  \\eta \\mathbf{M} \\nabla_{\\mathbf{y}} g({\\mathbf{y}}^{k})  \\\\\n",
        "\\implies \\mathbf{x}^{k+1} &= \\mathbf{x}^{k} - \\eta \\mathbf{MM}^\\top \\nabla_{\\mathbf{x}} f({\\mathbf{x}}^{k}) \n",
        "\\end{align}\n",
        "\n",
        "\n",
        "Letting $\\mathbf{D} = \\mathbf{MM}^\\top$, we see that the update is of the form:\n",
        "\\begin{align}\n",
        "\\mathbf{x}^{k+1} &= \\mathbf{x}^{k} - \\eta \\mathbf{D} \\nabla f({\\mathbf{x}}^{k}) \n",
        "\\end{align}\n",
        "\n",
        "Note that the matrix $\\mathbf{D}$ is symmetric and positive definite and hence can be written as $\\mathbf{D} = \\mathbf{B}^2$, where $\\mathbf{B}$ is also symmetric and positive definite. Denoting $\\mathbf{B}= \\mathbf{D}^{\\frac{1}{2}}$, we see that a useful choice for the matrix $\\mathbf{M}$ is $\\mathbf{M} = \\mathbf{B} = \\mathbf{D}^{\\frac{1}{2}}$. \n",
        "\n",
        "The matrix $\\mathbf{D}$ is called a $\\textbf{scaling}$ matrix and helps in scaling the Hessian. We will consider $\\mathbf{D}$ to be a diagonal matrix. Thus it would be useful to find a suitable candidate of the scaling matrix at each iteration which could help in significant progress of the iterates towards the optimal solution. \n",
        "\n",
        "\n"
      ]
    },
    {
      "cell_type": "markdown",
      "metadata": {
        "id": "ZgHGXcTYNXuw"
      },
      "source": [
        "This discussion leads to the following algorithm:\n",
        "\\begin{align}\n",
        "& \\textbf{Input:} \\text{ Starting point $x^0$, Stopping tolerance $\\tau$}  \\\\\n",
        "& \\textbf{Initialize } k=0 \\\\ \n",
        "& \\mathbf{p}^k =-\\nabla f(\\mathbf{x}^k) \\\\ \n",
        "&\\textbf{While } \\| \\mathbf{p}^k \\|_2 > \\tau \\text{ do:}  \\\\   \n",
        "&\\quad \\quad \\text{ Choose a suitable scaling matrix }\\mathbf{D}^k. \\\\ \n",
        "&\\quad \\quad \\eta^k = \\arg\\min_{\\eta\\geq 0} f(\\mathbf{x}^k + \\eta  \\mathbf{D}^k \\mathbf{p}^k) = \\arg\\min_{\\eta\\geq 0} f(\\mathbf{x}^k - \\eta  \\mathbf{D}^k \\nabla f(\\mathbf{x}^k)) \\\\\n",
        "&\\quad \\quad \\mathbf{x}^{k+1} = \\mathbf{x}^k + \\eta^k \\mathbf{D}^k \\mathbf{p}^k = \\mathbf{x}^k - \\eta^k  \\mathbf{D}^k \\nabla f(\\mathbf{x}^k)  \\\\ \n",
        "&\\quad \\quad k = {k+1} \\\\ \n",
        "&\\textbf{End While} \\\\\n",
        "&\\textbf{Output: } \\mathbf{x}^k\n",
        "\\end{align}"
      ]
    },
    {
      "cell_type": "markdown",
      "metadata": {
        "id": "3XvbzQ5LeJ_N"
      },
      "source": [
        "Note that the update step in the modified gradient descent scheme uses a scaled gradient. Thus it becomes important to set up some criteria for choosing the $\\mathbf{D}^k$ matrix in every iteration. In this exercise, we will assume $\\mathbf{D}^k$ to be a diagonal matrix. The following questions will help in designing a suitable $\\mathbf{D}^k$."
      ]
    },
    {
      "cell_type": "markdown",
      "metadata": {
        "id": "kC5h9vGOfLcr"
      },
      "source": [
        "$\\textbf{Question:4}$ Based on our discussion on condition number and the derivation of the gradient descent scheme with scaling, can you identify and write down the matrix $\\mathbf{Q}$ whose condition number needs to be analyzed in the new gradient scheme with scaling? "
      ]
    },
    {
      "cell_type": "markdown",
      "metadata": {
        "id": "ZL8skZZIf8yd"
      },
      "source": [
        "$\\textbf{Your Answer:}$ The matrix $\\mathbf{Q}$ whose condition number needs to be analyzed in the new gradient scheme with scaling can be written as:-\n",
        "\n",
        "$\\mathbf{Q}$  = $(\\mathbf{D}^k)^{\\frac{1}{2}} \\mathbf{H}^k (\\mathbf{D}^k)^{\\frac{1}{2}}\\ \\ \\ $\n",
        "Where, $\\mathbf{H}^k = (\\nabla^2f(\\mathbf{x})) $ is the hessian of a function for $k^{th}$ iteration."
      ]
    },
    {
      "cell_type": "markdown",
      "metadata": {
        "id": "qrbWd2XigB2N"
      },
      "source": [
        "$\\textbf{Question:5}$ Based on the matrix $\\mathbf{Q}$, can you come up with a useful choice for $\\mathbf{D}^k$ (assuming $\\mathbf{D}^k$ to be diagonal)?"
      ]
    },
    {
      "cell_type": "markdown",
      "metadata": {
        "id": "BTIH3LnUgRh6"
      },
      "source": [
        "$\\textbf{Your Answer:}$\n",
        "\n",
        "$\\mathbf{D^k}$ is a diagonal matrix whose diagonal entries are the inverse of the second partial derivatives.Hence our $D^k$ will be:\n",
        "\n",
        "$$\\mathbf{D^k}=\\begin{bmatrix}\n",
        "\\frac{1}{3000} & 0 \\\\ 0 & \\frac{1}{2}\n",
        "\\end{bmatrix}$$"
      ]
    },
    {
      "cell_type": "markdown",
      "metadata": {
        "id": "YDNH0zgxgaPR"
      },
      "source": [
        "Write code to find the matrix $\\mathbf{D}^k$. "
      ]
    },
    {
      "cell_type": "code",
      "metadata": {
        "id": "KJq7tIgIRroP"
      },
      "source": [
        "#The method defines a way to construct D_k matrix used in scaling the gradient in the modified gradient descent scheme\n",
        "def compute_D_k(x):\n",
        "  assert type(x) is np.ndarray\n",
        "  assert len(x) == 2\n",
        "  a11=1/3000\n",
        "  a12=0\n",
        "  a21=0\n",
        "  a22=1/2\n",
        "  return np.array([[a11,a12],[a21,a22]])\n",
        "  "
      ],
      "execution_count": 34,
      "outputs": []
    },
    {
      "cell_type": "code",
      "source": [
        "compute_D_k(np.array([1,1]))"
      ],
      "metadata": {
        "colab": {
          "base_uri": "https://localhost:8080/"
        },
        "id": "BCOatxD-pg6o",
        "outputId": "e9e6227c-c27c-4273-fa19-046b89c33d43"
      },
      "execution_count": 35,
      "outputs": [
        {
          "output_type": "execute_result",
          "data": {
            "text/plain": [
              "array([[3.33333333e-04, 0.00000000e+00],\n",
              "       [0.00000000e+00, 5.00000000e-01]])"
            ]
          },
          "metadata": {},
          "execution_count": 35
        }
      ]
    },
    {
      "cell_type": "code",
      "metadata": {
        "id": "GZjX2IwOR8_X"
      },
      "source": [
        "#Now we will define a Python function which will compute and return the objective function value \n",
        "def evalf(x):  \n",
        "  #Input: x is a numpy array of size 2 \n",
        "  assert type(x) is np.ndarray and len(x) == 2 #do not allow arbitrary arguments \n",
        "  #after checking if the argument is valid, we can compute the objective function value\n",
        "  #compute the function value and return it\n",
        "  return 1500*(x[0]**2)+4*x[0]*x[1]+x[1]**2 \n",
        "  \n"
      ],
      "execution_count": 36,
      "outputs": []
    },
    {
      "cell_type": "code",
      "source": [
        "evalf(np.array([1,1]))"
      ],
      "metadata": {
        "colab": {
          "base_uri": "https://localhost:8080/"
        },
        "id": "JzGHrlZOo5vS",
        "outputId": "c1a91b77-8079-4e52-ebcf-b13f32d34e5e"
      },
      "execution_count": 37,
      "outputs": [
        {
          "output_type": "execute_result",
          "data": {
            "text/plain": [
              "1505"
            ]
          },
          "metadata": {},
          "execution_count": 37
        }
      ]
    },
    {
      "cell_type": "code",
      "metadata": {
        "id": "6klpwtDra_I8"
      },
      "source": [
        "#Now we will define a Python function which will compute and return the gradient value as a numpy array \n",
        "def evalg(x):  \n",
        "  #Input: x is a numpy array of size 2 \n",
        "  assert type(x) is np.ndarray and len(x) == 2 #do not allow arbitrary arguments \n",
        "  #after checking if the argument is valid, we can compute the gradient value\n",
        "  #compute the gradient value and return it \n",
        "  return np.array([3000*x[0]+4*x[1],4*x[0]+2*x[1]])\n",
        "  "
      ],
      "execution_count": 38,
      "outputs": []
    },
    {
      "cell_type": "code",
      "source": [
        "evalg(np.array([1,1])).shape"
      ],
      "metadata": {
        "colab": {
          "base_uri": "https://localhost:8080/"
        },
        "id": "djuMp0w7pPrN",
        "outputId": "f5d4f5af-210d-4f8c-a1fa-0efeab02f847"
      },
      "execution_count": 39,
      "outputs": [
        {
          "output_type": "execute_result",
          "data": {
            "text/plain": [
              "(2,)"
            ]
          },
          "metadata": {},
          "execution_count": 39
        }
      ]
    },
    {
      "cell_type": "code",
      "metadata": {
        "id": "f3blM08V0HOl"
      },
      "source": [
        "#Complete the module to compute the steplength by using the closed-form expression\n",
        "def compute_steplength_exact(gradf, A): #add appropriate arguments to the function \n",
        "  assert type(gradf) is np.ndarray and len(gradf) == 2 \n",
        "  assert type(A) is np.ndarray and A.shape[0] == 2 and  A.shape[1] == 2 #allow only a 2x2 array\n",
        "  step_length=(np.dot(gradf.T,gradf)) / (np.matmul(np.matmul(gradf,2*A),gradf)) \n",
        "  \n",
        "  return step_length\n",
        "  "
      ],
      "execution_count": 40,
      "outputs": []
    },
    {
      "cell_type": "code",
      "metadata": {
        "id": "PGunDYy6Q21S"
      },
      "source": [
        "#Complete the module to compute the steplength by using the closed-form expression\n",
        "def compute_steplength_backtracking(x, gradf, alpha_start, rho, gamma): #add appropriate arguments to the function \n",
        "  assert type(x) is np.ndarray and len(gradf) == 2 \n",
        "  assert type(gradf) is np.ndarray and len(gradf) == 2 \n",
        "  assert type(alpha_start) is float and alpha_start>=0. \n",
        "  assert type(rho) is float and rho>=0.\n",
        "  assert type(gamma) is float and gamma>=0. \n",
        "  \n",
        "  #Complete the code \n",
        "  alpha = alpha_start\n",
        "  p=rho\n",
        "  y=gamma\n",
        "  #implement the backtracking line search\n",
        "  while evalf(x+alpha*(-gradf)) > evalf(x)-y*alpha*np.dot((gradf.T),gradf):\n",
        "    alpha=p*alpha\n",
        "\n",
        "\n",
        "  #print('final step length:',alpha)\n",
        "  return alpha\n",
        "  \n",
        "  "
      ],
      "execution_count": 41,
      "outputs": []
    },
    {
      "cell_type": "code",
      "metadata": {
        "id": "wqjdHM3eaHYf"
      },
      "source": [
        "def compute_steplength_backtracking_scaled_direction(x, gradf, alpha_start, rho, gamma): #add appropriate arguments to the function \n",
        "  assert type(x) is np.ndarray and len(gradf) == 2 \n",
        "  assert type(gradf) is np.ndarray and len(gradf) == 2 \n",
        "  assert type(alpha_start) is float and alpha_start>=0. \n",
        "  assert type(rho) is float and rho>=0.\n",
        "  assert type(gamma) is float and gamma>=0. \n",
        "  alpha = alpha_start\n",
        "  p = - gradf\n",
        "  D_k = compute_D_k(x)\n",
        "  r=rho\n",
        "  y=gamma\n",
        "  while evalf(x + alpha*np.matmul(D_k,p)) > evalf(x) + y*alpha* (np.matmul(np.matrix.transpose(gradf), np.matmul(D_k,p)) ):\n",
        "    alpha=alpha*r\n",
        "  return alpha\n",
        "\n",
        "  \n",
        "  \n",
        "  #Complete the code "
      ],
      "execution_count": 42,
      "outputs": []
    },
    {
      "cell_type": "code",
      "metadata": {
        "id": "GvLRu5s635ph"
      },
      "source": [
        "#line search type \n",
        "EXACT_LINE_SEARCH = 1\n",
        "BACKTRACKING_LINE_SEARCH = 2\n",
        "CONSTANT_STEP_LENGTH = 3"
      ],
      "execution_count": 43,
      "outputs": []
    },
    {
      "cell_type": "code",
      "metadata": {
        "id": "kdYW5nldqZU-"
      },
      "source": [
        "#complete the code for gradient descent to find the minimizer\n",
        "def find_minimizer_gd(start_x, tol, line_search_type,*args):\n",
        "  #Input: start_x is a numpy array of size 2, tol denotes the tolerance and is a positive float value\n",
        "  assert type(start_x) is np.ndarray and len(start_x) == 2 #do not allow arbitrary arguments \n",
        "  assert type(tol) is float and tol>=0 \n",
        "  x = start_x\n",
        "  g_x = evalg(x)\n",
        "  A=np.array([[1500,2],[2,1]])\n",
        "\n",
        "  #initialization for backtracking line search\n",
        "  if(line_search_type == BACKTRACKING_LINE_SEARCH):\n",
        "    alpha_start = args[0]\n",
        "    rho = args[1]\n",
        "    gamma = args[2]\n",
        "    print('Params for Backtracking LS: alpha start:', alpha_start, 'rho:', rho,' gamma:', gamma)\n",
        "\n",
        "  k = 0\n",
        "  #print('iter:',k, ' x:', x, ' f(x):', evalf(x), ' grad at x:', g_x, ' gradient norm:', np.linalg.norm(g_x))\n",
        "\n",
        "  while (np.linalg.norm(g_x) > tol): #continue as long as the norm of gradient is not close to zero upto a tolerance tol\n",
        "  \n",
        "    if line_search_type == EXACT_LINE_SEARCH:\n",
        "      step_length = compute_steplength_exact(g_x, A) #call the new function you wrote to compute the steplength\n",
        "      #raise ValueError('EXACT LINE SEARCH NOT YET IMPLEMENTED')\n",
        "    elif line_search_type == BACKTRACKING_LINE_SEARCH:\n",
        "      step_length = compute_steplength_backtracking(x,g_x, alpha_start,rho, gamma) #call the new function you wrote to compute the steplength\n",
        "      #raise ValueError('BACKTRACKING LINE SEARCH NOT YET IMPLEMENTED')\n",
        "    elif line_search_type == CONSTANT_STEP_LENGTH: #do a gradient descent with constant step length\n",
        "      step_length = 0.1\n",
        "    else:  \n",
        "      raise ValueError('Line search type unknown. Please check!')\n",
        "    \n",
        "    #implement the gradient descent steps here   \n",
        "    x = np.subtract(x, np.multiply(step_length,g_x)) #update x = x - step_length*g_x\n",
        "    k += 1 #increment iteration\n",
        "    g_x = evalg(x) #compute gradient at new point\n",
        "\n",
        "    #print('iter:',k, ' x:', x, ' f(x):', evalf(x), ' grad at x:', g_x, ' gradient norm:', np.linalg.norm(g_x))\n",
        "  return x ,k  \n"
      ],
      "execution_count": 44,
      "outputs": []
    },
    {
      "cell_type": "code",
      "metadata": {
        "id": "3SCJdqivdpxx"
      },
      "source": [
        "#complete the code for gradient descent with scaling to find the minimizer\n",
        "\n",
        "def find_minimizer_gdscaling(start_x, tol, line_search_type,*args):\n",
        "  #Input: start_x is a numpy array of size 2, tol denotes the tolerance and is a positive float value\n",
        "  assert type(start_x) is np.ndarray and len(start_x) == 2 #do not allow arbitrary arguments \n",
        "  assert type(tol) is float and tol>=0 \n",
        "  x = start_x\n",
        "  g_x = evalg(x)\n",
        "  A = np.array([[1500, 2], [2, 1]])\n",
        "  D_k = compute_D_k(x)\n",
        "  #initialization for backtracking line search\n",
        "  if(line_search_type == BACKTRACKING_LINE_SEARCH):\n",
        "    alpha_start = args[0]\n",
        "    rho = args[1]\n",
        "    gamma = args[2]\n",
        "    #print('Params for Backtracking LS: alpha start:', alpha_start, 'rho:', rho,' gamma:', gamma)\n",
        "\n",
        "  k = 0\n",
        "  while (np.linalg.norm(g_x) > tol): #continue as long as the norm of gradient is not close to zero upto a tolerance tol\n",
        "  \n",
        "    if line_search_type == EXACT_LINE_SEARCH:\n",
        "      step_length = compute_steplength_exact(g_x, A) #call the new function you wrote to compute the steplength\n",
        "      #raise ValueError('EXACT LINE SEARCH NOT YET IMPLEMENTED')\n",
        "    elif line_search_type == BACKTRACKING_LINE_SEARCH:\n",
        "      step_length = compute_steplength_backtracking_scaled_direction(x, g_x, alpha_start, rho, gamma) #call the new function you wrote to compute the steplength\n",
        "      #raise ValueError('BACKTRACKING LINE SEARCH NOT YET IMPLEMENTED')\n",
        "    elif line_search_type == CONSTANT_STEP_LENGTH: #do a gradient descent with constant step length\n",
        "      step_length = 0.1\n",
        "    else:  \n",
        "      raise ValueError('Line search type unknown. Please check!')\n",
        "    \n",
        "    #implement the gradient descent steps here  \n",
        "    x = np.subtract(x, np.multiply(step_length,np.matmul(D_k, g_x))) #update x = x - step_length*g_x\n",
        "    k += 1 #increment iteration\n",
        "    g_x = evalg(x) #compute gradient at new point\n",
        "  return x, k\n",
        "  #Complete the code  \n",
        "  #Complete the code   "
      ],
      "execution_count": 45,
      "outputs": []
    },
    {
      "cell_type": "markdown",
      "source": [
        "$\\textbf{Question:7}$ \n",
        "\n"
      ],
      "metadata": {
        "id": "4wPTYkafwpQu"
      }
    },
    {
      "cell_type": "code",
      "source": [
        "my_start_x=np.array([4.,4.])\n",
        "my_tol=1e-5\n",
        "#check gradient descent with exact line search \n",
        "x_opt,iterations = find_minimizer_gd(my_start_x, my_tol, EXACT_LINE_SEARCH)\n",
        "print(f'Value of optimizer for exact step length= {x_opt}\\nMinimum value is= {evalf(x_opt)}\\nNumber of iterations= {iterations}\\n ')\n",
        "#check gradient descent with backtracking line search \n",
        "alpha_start = 1.\n",
        "rho = 0.5\n",
        "gamma = 0.5\n",
        "x_opt_bls,iterations = find_minimizer_gd(my_start_x, my_tol, BACKTRACKING_LINE_SEARCH, alpha_start, rho,gamma)\n",
        "print(f\"Value of optimizer for Backtracking line search ={x_opt_bls} \\nMinimum value is= {evalf(x_opt_bls)}\\nNumber of iterations are= {iterations}\\n\")\n",
        "#check gradient descent with scaling and backtracking line search \n",
        "alpha_start = 1.\n",
        "rho = 0.5\n",
        "gamma = 0.5\n",
        "x_opt_bls,iterations = find_minimizer_gdscaling(my_start_x, my_tol, BACKTRACKING_LINE_SEARCH, alpha_start, rho,gamma)\n",
        "print(f\"Value of optimizer for Backtracking scaled line search ={x_opt_bls} \\nMinimum value is= {evalf(x_opt_bls)}\\nNumber of iterations are= {iterations}\\n\")"
      ],
      "metadata": {
        "colab": {
          "base_uri": "https://localhost:8080/"
        },
        "id": "10J3TEDdwyk2",
        "outputId": "a3beda25-7201-4096-c786-18b9a2d13049"
      },
      "execution_count": 46,
      "outputs": [
        {
          "output_type": "stream",
          "name": "stdout",
          "text": [
            "Value of optimizer for exact step length= [-2.32108719e-09  1.73908326e-06]\n",
            "Minimum value is= 3.0163454977772667e-12\n",
            "Number of iterations= 5\n",
            " \n",
            "Params for Backtracking LS: alpha start: 1.0 rho: 0.5  gamma: 0.5\n",
            "Value of optimizer for Backtracking line search =[-7.41280132e-09  4.58747524e-06] \n",
            "Minimum value is= 2.0991329363516383e-11\n",
            "Number of iterations are= 8194\n",
            "\n",
            "Value of optimizer for Backtracking scaled line search =[ 7.57844280e-11 -3.79259259e-08] \n",
            "Minimum value is= 1.43549399821784e-15\n",
            "Number of iterations are= 9\n",
            "\n"
          ]
        }
      ]
    },
    {
      "cell_type": "markdown",
      "source": [
        "$\\textbf{Question:8}$ "
      ],
      "metadata": {
        "id": "Q-lsTAhCxeIT"
      }
    },
    {
      "cell_type": "code",
      "metadata": {
        "id": "3hoak3jnHkXd"
      },
      "source": [
        "my_start_x = np.array([1.,4000.])\n",
        "my_tol= 1e-12"
      ],
      "execution_count": 47,
      "outputs": []
    },
    {
      "cell_type": "code",
      "metadata": {
        "id": "vgu4yasdJEKo",
        "colab": {
          "base_uri": "https://localhost:8080/"
        },
        "outputId": "f561f124-ce0e-4aeb-8fc3-1282b6a89a52"
      },
      "source": [
        "#check gradient descent with exact line search \n",
        "x_opt,iterations = find_minimizer_gd(my_start_x, my_tol, EXACT_LINE_SEARCH)\n",
        "print(f'Value of optimizer for exact step length= {x_opt}\\nMinimum value is= {evalf(x_opt)}\\nNumber of iterations= {iterations} ')"
      ],
      "execution_count": 48,
      "outputs": [
        {
          "output_type": "stream",
          "name": "stdout",
          "text": [
            "Value of optimizer for exact step length= [-7.44595231e-16  4.61544291e-13]\n",
            "Minimum value is= 2.12480110780353e-25\n",
            "Number of iterations= 14075 \n"
          ]
        }
      ]
    },
    {
      "cell_type": "code",
      "metadata": {
        "id": "U0_iOLVoQFYy",
        "colab": {
          "base_uri": "https://localhost:8080/"
        },
        "outputId": "1a29479d-f40c-40ff-b2e8-d3ac3bb60e77"
      },
      "source": [
        "#check gradient descent with backtracking line search \n",
        "alpha_start = 1.\n",
        "rho = 0.5\n",
        "gamma = 0.5\n",
        "x_opt_bls,iterations = find_minimizer_gd(my_start_x, my_tol, BACKTRACKING_LINE_SEARCH, alpha_start, rho,gamma)\n",
        "print(f\"Value of optimizer for Backtracking line search ={x_opt_bls} \\nMinimum value is= {evalf(x_opt_bls)}\\nNumber of iterations are= {iterations}\")"
      ],
      "execution_count": 49,
      "outputs": [
        {
          "output_type": "stream",
          "name": "stdout",
          "text": [
            "Params for Backtracking LS: alpha start: 1.0 rho: 0.5  gamma: 0.5\n",
            "Value of optimizer for Backtracking line search =[-4.78532202e-16  4.53575301e-13] \n",
            "Minimum value is= 2.0520584176089396e-25\n",
            "Number of iterations are= 21985\n"
          ]
        }
      ]
    },
    {
      "cell_type": "code",
      "metadata": {
        "id": "KpABILpQxPKD",
        "colab": {
          "base_uri": "https://localhost:8080/"
        },
        "outputId": "0f6b9019-121e-4dc8-e5d4-964efabd05ec"
      },
      "source": [
        "#check gradient descent with scaling and backtracking line search \n",
        "alpha_start = 1.\n",
        "rho = 0.5\n",
        "gamma = 0.5\n",
        "x_opt_bls,iterations = find_minimizer_gdscaling(my_start_x, my_tol, BACKTRACKING_LINE_SEARCH, alpha_start, rho,gamma)\n",
        "print(f\"Value of optimizer for Backtracking scaled line search ={x_opt_bls} \\nMinimum value is= {evalf(x_opt_bls)}\\nNumber of iterations are= {iterations}\")"
      ],
      "execution_count": 50,
      "outputs": [
        {
          "output_type": "stream",
          "name": "stdout",
          "text": [
            "Value of optimizer for Backtracking scaled line search =[-2.31674405e-18  9.60515434e-16] \n",
            "Minimum value is= 9.217397790469283e-31\n",
            "Number of iterations are= 16\n"
          ]
        }
      ]
    },
    {
      "cell_type": "markdown",
      "source": [
        "I can observe that the backtracking algorithm with scaling is taking only 16 iterations to terminate while backtracking without scaling is taking 21985 interations which is very high as compared to backtracking with scaling algorithm. and the exact step length algorithm is taking 14075 iterations to terminate which is also very high as compared to backtracking with scaling. hence in this case backtracking with scaling is a faster approach.\n",
        "In each algorithm the value of optimizer is approaching to $[0,0]$ and the optimum value is approaching to $0$."
      ],
      "metadata": {
        "id": "yvp1tZTg1AcI"
      }
    },
    {
      "cell_type": "markdown",
      "source": [
        "$\\textbf{Question:9}$ "
      ],
      "metadata": {
        "id": "4KqaXa7ZzaEt"
      }
    },
    {
      "cell_type": "code",
      "source": [
        "my_start_x=np.array([1.,4000.])\n",
        "my_tol=1e-12\n",
        "list_of_alpha=[1.,0.9,0.75,0.6,0.5, 0.4, 0.25, 0.1, 0.01]\n",
        "opt_with_scaling=[]\n",
        "opt_without_scaling=[]\n",
        "iterations_scaling=[]\n",
        "iterations_without_scaling=[]\n",
        "for alpha in list_of_alpha:\n",
        "  print(f'For alpha={alpha}')\n",
        "  print(\"For backtracking with scaling process:\")\n",
        "  opt_bt_scale,k=find_minimizer_gdscaling(my_start_x, my_tol, BACKTRACKING_LINE_SEARCH, alpha,0.5,0.5)\n",
        "  print(f\"Value of optimizer ={opt_bt_scale} \\nMinimum value is= {evalf(opt_bt_scale)}\\nNumber of iterations are= {k}\\n\")\n",
        "\n",
        "  opt_with_scaling.append(opt_bt_scale)\n",
        "  iterations_scaling.append(k)\n",
        "  print(\"For backtracking without scaling process:\")\n",
        "  opt_bt,k1=find_minimizer_gd(my_start_x,my_tol,BACKTRACKING_LINE_SEARCH,alpha,0.5,0.5)\n",
        "  print(f\"Value of optimizer ={opt_bt} \\nMinimum value is= {evalf(opt_bt)}\\nNumber of iterations are= {k1}\\n\")\n",
        "  opt_without_scaling.append(opt_bt)\n",
        "  iterations_without_scaling.append(k1)"
      ],
      "metadata": {
        "colab": {
          "base_uri": "https://localhost:8080/"
        },
        "id": "BT_qIUcDxlP5",
        "outputId": "5d892ceb-1c74-4041-81d9-ea75c68d55cd"
      },
      "execution_count": 51,
      "outputs": [
        {
          "output_type": "stream",
          "name": "stdout",
          "text": [
            "For alpha=1.0\n",
            "For backtracking with scaling process:\n",
            "Value of optimizer =[-2.31674405e-18  9.60515434e-16] \n",
            "Minimum value is= 9.217397790469283e-31\n",
            "Number of iterations are= 16\n",
            "\n",
            "For backtracking without scaling process:\n",
            "Params for Backtracking LS: alpha start: 1.0 rho: 0.5  gamma: 0.5\n",
            "Value of optimizer =[-4.78532202e-16  4.53575301e-13] \n",
            "Minimum value is= 2.0520584176089396e-25\n",
            "Number of iterations are= 21985\n",
            "\n",
            "For alpha=0.9\n",
            "For backtracking with scaling process:\n",
            "Value of optimizer =[-1.54825431e-16  5.99636318e-15] \n",
            "Minimum value is= 6.819918471923904e-29\n",
            "Number of iterations are= 21\n",
            "\n",
            "For backtracking without scaling process:\n",
            "Params for Backtracking LS: alpha start: 0.9 rho: 0.5  gamma: 0.5\n",
            "Value of optimizer =[-5.48799355e-16  4.71515450e-13] \n",
            "Minimum value is= 2.2174352131747877e-25\n",
            "Number of iterations are= 15941\n",
            "\n",
            "For alpha=0.75\n",
            "For backtracking with scaling process:\n",
            "Value of optimizer =[-2.78273450e-16  1.07784868e-14] \n",
            "Minimum value is= 2.203324807217381e-28\n",
            "Number of iterations are= 32\n",
            "\n",
            "For backtracking without scaling process:\n",
            "Params for Backtracking LS: alpha start: 0.75 rho: 0.5  gamma: 0.5\n",
            "Value of optimizer =[-7.18643891e-16  4.89175378e-13] \n",
            "Minimum value is= 2.386610528547938e-25\n",
            "Number of iterations are= 6750\n",
            "\n",
            "For alpha=0.6\n",
            "For backtracking with scaling process:\n",
            "Value of optimizer =[-3.37385169e-16  1.30849588e-14] \n",
            "Minimum value is= 3.2430059206322154e-28\n",
            "Number of iterations are= 47\n",
            "\n",
            "For backtracking without scaling process:\n",
            "Params for Backtracking LS: alpha start: 0.6 rho: 0.5  gamma: 0.5\n",
            "Value of optimizer =[-6.07554226e-16  4.94036636e-13] \n",
            "Minimum value is= 2.43425264283868e-25\n",
            "Number of iterations are= 6887\n",
            "\n",
            "For alpha=0.5\n",
            "For backtracking with scaling process:\n",
            "Value of optimizer =[-2.51144512e-16  9.75949896e-15] \n",
            "Minimum value is= 1.800539902805011e-28\n",
            "Number of iterations are= 62\n",
            "\n",
            "For backtracking without scaling process:\n",
            "Params for Backtracking LS: alpha start: 0.5 rho: 0.5  gamma: 0.5\n",
            "Value of optimizer =[-4.78532202e-16  4.53575301e-13] \n",
            "Minimum value is= 2.0520584176089396e-25\n",
            "Number of iterations are= 21985\n",
            "\n",
            "For alpha=0.4\n",
            "For backtracking with scaling process:\n",
            "Value of optimizer =[-3.26530890e-16  1.27315971e-14] \n",
            "Minimum value is= 3.0539815808527928e-28\n",
            "Number of iterations are= 83\n",
            "\n",
            "For backtracking without scaling process:\n",
            "Params for Backtracking LS: alpha start: 0.4 rho: 0.5  gamma: 0.5\n",
            "Value of optimizer =[-7.24091328e-16  4.84454819e-13] \n",
            "Minimum value is= 2.3407977615582728e-25\n",
            "Number of iterations are= 11362\n",
            "\n",
            "For alpha=0.25\n",
            "For backtracking with scaling process:\n",
            "Value of optimizer =[-2.68853026e-16  1.05480788e-14] \n",
            "Minimum value is= 2.0834135979657747e-28\n",
            "Number of iterations are= 147\n",
            "\n",
            "For backtracking without scaling process:\n",
            "Params for Backtracking LS: alpha start: 0.25 rho: 0.5  gamma: 0.5\n",
            "Value of optimizer =[-4.78532202e-16  4.53575301e-13] \n",
            "Minimum value is= 2.0520584176089396e-25\n",
            "Number of iterations are= 21985\n",
            "\n",
            "For alpha=0.1\n",
            "For backtracking with scaling process:\n",
            "Value of optimizer =[-3.34815103e-16  1.32481337e-14] \n",
            "Minimum value is= 3.2592207464795465e-28\n",
            "Number of iterations are= 397\n",
            "\n",
            "For backtracking without scaling process:\n",
            "Params for Backtracking LS: alpha start: 0.1 rho: 0.5  gamma: 0.5\n",
            "Value of optimizer =[-7.24091328e-16  4.84454819e-13] \n",
            "Minimum value is= 2.3407977615582728e-25\n",
            "Number of iterations are= 11362\n",
            "\n",
            "For alpha=0.01\n",
            "For backtracking with scaling process:\n",
            "Value of optimizer =[-3.51028779e-16  1.39670836e-14] \n",
            "Minimum value is= 3.602998362211868e-28\n",
            "Number of iterations are= 4146\n",
            "\n",
            "For backtracking without scaling process:\n",
            "Params for Backtracking LS: alpha start: 0.01 rho: 0.5  gamma: 0.5\n",
            "Value of optimizer =[-5.80852788e-16  4.86459735e-13] \n",
            "Minimum value is= 2.3601891237044125e-25\n",
            "Number of iterations are= 5509\n",
            "\n"
          ]
        }
      ]
    },
    {
      "cell_type": "code",
      "source": [
        "from tabulate import tabulate\n",
        "head=['alpha',\"optimizer with scaling\",\"optimizer without scaling\",\"No. of Iterations with scaling\",\"No. of Iterations without scaling\",\"Optimum Value with sacling\",\"Optimum value without scaling\"]"
      ],
      "metadata": {
        "id": "-dDfhd1v3aV2"
      },
      "execution_count": 52,
      "outputs": []
    },
    {
      "cell_type": "code",
      "source": [
        "my_data=[[list_of_alpha[i],opt_with_scaling[i],opt_without_scaling[i],iterations_scaling[i],iterations_without_scaling[i],evalf(opt_with_scaling[i]),evalf(opt_without_scaling[i])] for i in range(len(list_of_alpha))]"
      ],
      "metadata": {
        "id": "t3FknA2C333J"
      },
      "execution_count": 53,
      "outputs": []
    },
    {
      "cell_type": "code",
      "source": [
        "print(tabulate(my_data, headers=head, tablefmt=\"grid\"))"
      ],
      "metadata": {
        "colab": {
          "base_uri": "https://localhost:8080/"
        },
        "id": "3x4EYtSO4Yxi",
        "outputId": "37db65dc-9e33-46b8-de14-7cae37b7e7dc"
      },
      "execution_count": 54,
      "outputs": [
        {
          "output_type": "stream",
          "name": "stdout",
          "text": [
            "+---------+-----------------------------------+-----------------------------------+----------------------------------+-------------------------------------+------------------------------+---------------------------------+\n",
            "|   alpha | optimizer with scaling            | optimizer without scaling         |   No. of Iterations with scaling |   No. of Iterations without scaling |   Optimum Value with sacling |   Optimum value without scaling |\n",
            "+=========+===================================+===================================+==================================+=====================================+==============================+=================================+\n",
            "|    1    | [-2.31674405e-18  9.60515434e-16] | [-4.78532202e-16  4.53575301e-13] |                               16 |                               21985 |                  9.2174e-31  |                     2.05206e-25 |\n",
            "+---------+-----------------------------------+-----------------------------------+----------------------------------+-------------------------------------+------------------------------+---------------------------------+\n",
            "|    0.9  | [-1.54825431e-16  5.99636318e-15] | [-5.48799355e-16  4.71515450e-13] |                               21 |                               15941 |                  6.81992e-29 |                     2.21744e-25 |\n",
            "+---------+-----------------------------------+-----------------------------------+----------------------------------+-------------------------------------+------------------------------+---------------------------------+\n",
            "|    0.75 | [-2.78273450e-16  1.07784868e-14] | [-7.18643891e-16  4.89175378e-13] |                               32 |                                6750 |                  2.20332e-28 |                     2.38661e-25 |\n",
            "+---------+-----------------------------------+-----------------------------------+----------------------------------+-------------------------------------+------------------------------+---------------------------------+\n",
            "|    0.6  | [-3.37385169e-16  1.30849588e-14] | [-6.07554226e-16  4.94036636e-13] |                               47 |                                6887 |                  3.24301e-28 |                     2.43425e-25 |\n",
            "+---------+-----------------------------------+-----------------------------------+----------------------------------+-------------------------------------+------------------------------+---------------------------------+\n",
            "|    0.5  | [-2.51144512e-16  9.75949896e-15] | [-4.78532202e-16  4.53575301e-13] |                               62 |                               21985 |                  1.80054e-28 |                     2.05206e-25 |\n",
            "+---------+-----------------------------------+-----------------------------------+----------------------------------+-------------------------------------+------------------------------+---------------------------------+\n",
            "|    0.4  | [-3.26530890e-16  1.27315971e-14] | [-7.24091328e-16  4.84454819e-13] |                               83 |                               11362 |                  3.05398e-28 |                     2.3408e-25  |\n",
            "+---------+-----------------------------------+-----------------------------------+----------------------------------+-------------------------------------+------------------------------+---------------------------------+\n",
            "|    0.25 | [-2.68853026e-16  1.05480788e-14] | [-4.78532202e-16  4.53575301e-13] |                              147 |                               21985 |                  2.08341e-28 |                     2.05206e-25 |\n",
            "+---------+-----------------------------------+-----------------------------------+----------------------------------+-------------------------------------+------------------------------+---------------------------------+\n",
            "|    0.1  | [-3.34815103e-16  1.32481337e-14] | [-7.24091328e-16  4.84454819e-13] |                              397 |                               11362 |                  3.25922e-28 |                     2.3408e-25  |\n",
            "+---------+-----------------------------------+-----------------------------------+----------------------------------+-------------------------------------+------------------------------+---------------------------------+\n",
            "|    0.01 | [-3.51028779e-16  1.39670836e-14] | [-5.80852788e-16  4.86459735e-13] |                             4146 |                                5509 |                  3.603e-28   |                     2.36019e-25 |\n",
            "+---------+-----------------------------------+-----------------------------------+----------------------------------+-------------------------------------+------------------------------+---------------------------------+\n"
          ]
        }
      ]
    },
    {
      "cell_type": "code",
      "source": [
        "import matplotlib.pyplot as plt\n",
        "plt.plot(list_of_alpha,iterations_scaling,label=\"with scaling\")\n",
        "plt.plot(list_of_alpha,iterations_without_scaling,label=\"without scaling\")\n",
        "plt.xlabel(\"Alpha\")\n",
        "plt.ylabel(\"Iterations\")\n",
        "plt.legend(loc=\"upper right\")\n"
      ],
      "metadata": {
        "colab": {
          "base_uri": "https://localhost:8080/",
          "height": 297
        },
        "id": "wWVzt5PK4czT",
        "outputId": "1de30ac6-9137-4958-9b3e-600980920b79"
      },
      "execution_count": 55,
      "outputs": [
        {
          "output_type": "execute_result",
          "data": {
            "text/plain": [
              "<matplotlib.legend.Legend at 0x7fadc5598850>"
            ]
          },
          "metadata": {},
          "execution_count": 55
        },
        {
          "output_type": "display_data",
          "data": {
            "image/png": "[encoded data removed]",
            "text/plain": [
              "<Figure size 432x288 with 1 Axes>"
            ]
          },
          "metadata": {
            "needs_background": "light"
          }
        }
      ]
    },
    {
      "cell_type": "markdown",
      "source": [
        "In the above plot and the table, we can see that no. of iteration for backtracking with scaling algorithm is increasing as alpha decreases.If we decrease the value of alpha from 1 to 0.01 the no. of iteration increasea from 21 to 4146.\n",
        "\n",
        "and for backtracking without scaling algorithm we can't see any pattern as we decrease the value of alpha from 1 to 0.01. and we observe that for each value of alpha the no. of iterations taken by backtracking without scaling algorithm is very high as compared to backtracking with scaling algorithm.\n",
        "\n",
        "The value of optimizer approaching to $[0,0]$ for each alpha for both algorithms and the optimum value is also approaching to 0 for both algorithms\n"
      ],
      "metadata": {
        "id": "hi_47oJM3GZJ"
      }
    },
    {
      "cell_type": "markdown",
      "source": [
        "$\\textbf{Question:10}$ "
      ],
      "metadata": {
        "id": "sHW3kY656B5L"
      }
    },
    {
      "cell_type": "code",
      "source": [
        "my_start_x=np.array([1.,4000.])\n",
        "my_tol=1e-12\n",
        "list_of_rho=[0.9, 0.8, 0.75, 0.6, 0.5, 0.4, 0.25, 0.1, 0.01]\n",
        "opt_with_scaling=[]\n",
        "opt_without_scaling=[]\n",
        "iterations_scaling=[]\n",
        "iterations_without_scaling=[]\n",
        "for r in list_of_rho:\n",
        "  print(f'For rho = {r}')\n",
        "  print(\"For backtracking with scaling process:\")\n",
        "  opt_bt_scale,k=find_minimizer_gdscaling(my_start_x, my_tol, BACKTRACKING_LINE_SEARCH, 1.,r,0.5)\n",
        "  print(f\"Value of optimizer ={opt_bt_scale} \\nMinimum value is= {evalf(opt_bt_scale)}\\nNumber of iterations are= {k}\\n\")\n",
        "\n",
        "  opt_with_scaling.append(opt_bt_scale)\n",
        "  iterations_scaling.append(k)\n",
        "  print(\"For backtracking without scaling process:\")\n",
        "  opt_bt,k1=find_minimizer_gd(my_start_x,my_tol,BACKTRACKING_LINE_SEARCH,1.,r,0.5)\n",
        "  print(f\"Value of optimizer ={opt_bt} \\nMinimum value is= {evalf(opt_bt)}\\nNumber of iterations are= {k1}\\n\")\n",
        "  opt_without_scaling.append(opt_bt)\n",
        "  iterations_without_scaling.append(k1)"
      ],
      "metadata": {
        "colab": {
          "base_uri": "https://localhost:8080/"
        },
        "id": "2kOGRgxP6BN8",
        "outputId": "12687bcb-f424-4952-9c3b-f74c7c92f138"
      },
      "execution_count": 56,
      "outputs": [
        {
          "output_type": "stream",
          "name": "stdout",
          "text": [
            "For rho = 0.9\n",
            "For backtracking with scaling process:\n",
            "Value of optimizer =[-1.90920422e-16  3.38018326e-15] \n",
            "Minimum value is= 6.352016622002106e-29\n",
            "Number of iterations are= 14\n",
            "\n",
            "For backtracking without scaling process:\n",
            "Params for Backtracking LS: alpha start: 1.0 rho: 0.9  gamma: 0.5\n",
            "Value of optimizer =[-6.44686128e-16  4.90962904e-13] \n",
            "Minimum value is= 2.404019351870065e-25\n",
            "Number of iterations are= 127\n",
            "\n",
            "For rho = 0.8\n",
            "For backtracking with scaling process:\n",
            "Value of optimizer =[-3.89959677e-18  7.65599523e-16] \n",
            "Minimum value is= 5.970107943515186e-31\n",
            "Number of iterations are= 15\n",
            "\n",
            "For backtracking without scaling process:\n",
            "Params for Backtracking LS: alpha start: 1.0 rho: 0.8  gamma: 0.5\n",
            "Value of optimizer =[-6.99968590e-16  4.40149178e-13] \n",
            "Minimum value is= 1.932338703071826e-25\n",
            "Number of iterations are= 1471\n",
            "\n",
            "For rho = 0.75\n",
            "For backtracking with scaling process:\n",
            "Value of optimizer =[-3.59593964e-18  9.57478862e-16] \n",
            "Minimum value is= 9.223897999650174e-31\n",
            "Number of iterations are= 15\n",
            "\n",
            "For backtracking without scaling process:\n",
            "Params for Backtracking LS: alpha start: 1.0 rho: 0.75  gamma: 0.5\n",
            "Value of optimizer =[-7.15454842e-16  4.83616543e-13] \n",
            "Minimum value is= 2.332687511412074e-25\n",
            "Number of iterations are= 3135\n",
            "\n",
            "For rho = 0.6\n",
            "For backtracking with scaling process:\n",
            "Value of optimizer =[-2.68496827e-18  1.53311688e-15] \n",
            "Minimum value is= 2.3447954703965872e-30\n",
            "Number of iterations are= 15\n",
            "\n",
            "For backtracking without scaling process:\n",
            "Params for Backtracking LS: alpha start: 1.0 rho: 0.6  gamma: 0.5\n",
            "Value of optimizer =[-7.07691748e-16  4.70469643e-13] \n",
            "Minimum value is= 2.2076113616544364e-25\n",
            "Number of iterations are= 15834\n",
            "\n",
            "For rho = 0.5\n",
            "For backtracking with scaling process:\n",
            "Value of optimizer =[-2.31674405e-18  9.60515434e-16] \n",
            "Minimum value is= 9.217397790469283e-31\n",
            "Number of iterations are= 16\n",
            "\n",
            "For backtracking without scaling process:\n",
            "Params for Backtracking LS: alpha start: 1.0 rho: 0.5  gamma: 0.5\n",
            "Value of optimizer =[-4.78532202e-16  4.53575301e-13] \n",
            "Minimum value is= 2.0520584176089396e-25\n",
            "Number of iterations are= 21985\n",
            "\n",
            "For rho = 0.4\n",
            "For backtracking with scaling process:\n",
            "Value of optimizer =[-2.10920879e-18  1.38155681e-15] \n",
            "Minimum value is= 1.903716407388883e-30\n",
            "Number of iterations are= 16\n",
            "\n",
            "For backtracking without scaling process:\n",
            "Params for Backtracking LS: alpha start: 1.0 rho: 0.4  gamma: 0.5\n",
            "Value of optimizer =[-5.16461460e-16  4.67846629e-13] \n",
            "Minimum value is= 2.1831406770108246e-25\n",
            "Number of iterations are= 20049\n",
            "\n",
            "For rho = 0.25\n",
            "For backtracking with scaling process:\n",
            "Value of optimizer =[-6.9534609e-16  4.5561674e-13] \n",
            "Minimum value is= 2.0704462793405916e-25\n",
            "Number of iterations are= 16\n",
            "\n",
            "For backtracking without scaling process:\n",
            "Params for Backtracking LS: alpha start: 1.0 rho: 0.25  gamma: 0.5\n",
            "Value of optimizer =[-5.67128954e-16  4.70177132e-13] \n",
            "Minimum value is= 2.204823842206756e-25\n",
            "Number of iterations are= 24570\n",
            "\n",
            "For rho = 0.1\n",
            "For backtracking with scaling process:\n",
            "Value of optimizer =[-6.22892805e-16  4.51919078e-13] \n",
            "Minimum value is= 2.0368685744853975e-25\n",
            "Number of iterations are= 23\n",
            "\n",
            "For backtracking without scaling process:\n",
            "Params for Backtracking LS: alpha start: 1.0 rho: 0.1  gamma: 0.5\n",
            "Value of optimizer =[-4.35224428e-16  4.42644725e-13] \n",
            "Minimum value is= 1.9544788340231146e-25\n",
            "Number of iterations are= 45435\n",
            "\n",
            "For rho = 0.01\n",
            "For backtracking with scaling process:\n",
            "Value of optimizer =[-5.88632151e-16  4.39928337e-13] \n",
            "Minimum value is= 1.9302084997635662e-25\n",
            "Number of iterations are= 130\n",
            "\n",
            "For backtracking without scaling process:\n",
            "Params for Backtracking LS: alpha start: 1.0 rho: 0.01  gamma: 0.5\n",
            "Value of optimizer =[-6.03891924e-16  4.89972672e-13] \n",
            "Minimum value is= 2.394366854291179e-25\n",
            "Number of iterations are= 17463\n",
            "\n"
          ]
        }
      ]
    },
    {
      "cell_type": "code",
      "source": [
        "head=['rho ',\"optimizer with scaling\",\"optimizer without scaling\",\"No. of Iterations with scaling\",\"No. of Iterations without scaling\",\"Optimum Value with sacling\",\"Optimum value without scaling\"]"
      ],
      "metadata": {
        "id": "VtxnZ2Mw7MWc"
      },
      "execution_count": 57,
      "outputs": []
    },
    {
      "cell_type": "code",
      "source": [
        "my_data=[[list_of_rho[i],opt_with_scaling[i],opt_without_scaling[i],iterations_scaling[i],iterations_without_scaling[i],evalf(opt_with_scaling[i]),evalf(opt_without_scaling[i])] for i in range(len(list_of_rho))]"
      ],
      "metadata": {
        "id": "qNjGWsG97TWH"
      },
      "execution_count": 58,
      "outputs": []
    },
    {
      "cell_type": "code",
      "source": [
        "print(tabulate(my_data, headers=head, tablefmt=\"grid\"))"
      ],
      "metadata": {
        "colab": {
          "base_uri": "https://localhost:8080/"
        },
        "id": "gxlfUcwh7c3X",
        "outputId": "ba6d80a3-1a54-4533-9077-c2d526885391"
      },
      "execution_count": 59,
      "outputs": [
        {
          "output_type": "stream",
          "name": "stdout",
          "text": [
            "+--------+-----------------------------------+-----------------------------------+----------------------------------+-------------------------------------+------------------------------+---------------------------------+\n",
            "|   rho  | optimizer with scaling            | optimizer without scaling         |   No. of Iterations with scaling |   No. of Iterations without scaling |   Optimum Value with sacling |   Optimum value without scaling |\n",
            "+========+===================================+===================================+==================================+=====================================+==============================+=================================+\n",
            "|   0.9  | [-1.90920422e-16  3.38018326e-15] | [-6.44686128e-16  4.90962904e-13] |                               14 |                                 127 |                  6.35202e-29 |                     2.40402e-25 |\n",
            "+--------+-----------------------------------+-----------------------------------+----------------------------------+-------------------------------------+------------------------------+---------------------------------+\n",
            "|   0.8  | [-3.89959677e-18  7.65599523e-16] | [-6.99968590e-16  4.40149178e-13] |                               15 |                                1471 |                  5.97011e-31 |                     1.93234e-25 |\n",
            "+--------+-----------------------------------+-----------------------------------+----------------------------------+-------------------------------------+------------------------------+---------------------------------+\n",
            "|   0.75 | [-3.59593964e-18  9.57478862e-16] | [-7.15454842e-16  4.83616543e-13] |                               15 |                                3135 |                  9.2239e-31  |                     2.33269e-25 |\n",
            "+--------+-----------------------------------+-----------------------------------+----------------------------------+-------------------------------------+------------------------------+---------------------------------+\n",
            "|   0.6  | [-2.68496827e-18  1.53311688e-15] | [-7.07691748e-16  4.70469643e-13] |                               15 |                               15834 |                  2.3448e-30  |                     2.20761e-25 |\n",
            "+--------+-----------------------------------+-----------------------------------+----------------------------------+-------------------------------------+------------------------------+---------------------------------+\n",
            "|   0.5  | [-2.31674405e-18  9.60515434e-16] | [-4.78532202e-16  4.53575301e-13] |                               16 |                               21985 |                  9.2174e-31  |                     2.05206e-25 |\n",
            "+--------+-----------------------------------+-----------------------------------+----------------------------------+-------------------------------------+------------------------------+---------------------------------+\n",
            "|   0.4  | [-2.10920879e-18  1.38155681e-15] | [-5.16461460e-16  4.67846629e-13] |                               16 |                               20049 |                  1.90372e-30 |                     2.18314e-25 |\n",
            "+--------+-----------------------------------+-----------------------------------+----------------------------------+-------------------------------------+------------------------------+---------------------------------+\n",
            "|   0.25 | [-6.9534609e-16  4.5561674e-13]   | [-5.67128954e-16  4.70177132e-13] |                               16 |                               24570 |                  2.07045e-25 |                     2.20482e-25 |\n",
            "+--------+-----------------------------------+-----------------------------------+----------------------------------+-------------------------------------+------------------------------+---------------------------------+\n",
            "|   0.1  | [-6.22892805e-16  4.51919078e-13] | [-4.35224428e-16  4.42644725e-13] |                               23 |                               45435 |                  2.03687e-25 |                     1.95448e-25 |\n",
            "+--------+-----------------------------------+-----------------------------------+----------------------------------+-------------------------------------+------------------------------+---------------------------------+\n",
            "|   0.01 | [-5.88632151e-16  4.39928337e-13] | [-6.03891924e-16  4.89972672e-13] |                              130 |                               17463 |                  1.93021e-25 |                     2.39437e-25 |\n",
            "+--------+-----------------------------------+-----------------------------------+----------------------------------+-------------------------------------+------------------------------+---------------------------------+\n"
          ]
        }
      ]
    },
    {
      "cell_type": "code",
      "source": [
        "plt.plot(list_of_rho,iterations_scaling,label=\"with scaling\")\n",
        "plt.plot(list_of_rho,iterations_without_scaling,label=\"without scaling\")\n",
        "plt.xlabel(\"rho\")\n",
        "plt.ylabel(\"Iterations\")\n",
        "plt.legend(loc=\"upper right\")\n"
      ],
      "metadata": {
        "colab": {
          "base_uri": "https://localhost:8080/",
          "height": 297
        },
        "id": "1pucSf7Y7dP2",
        "outputId": "c58de9e7-039a-4620-b41f-06fccb2de620"
      },
      "execution_count": 60,
      "outputs": [
        {
          "output_type": "execute_result",
          "data": {
            "text/plain": [
              "<matplotlib.legend.Legend at 0x7fadc556b890>"
            ]
          },
          "metadata": {},
          "execution_count": 60
        },
        {
          "output_type": "display_data",
          "data": {
            "image/png": "[encoded data removed]",
            "text/plain": [
              "<Figure size 432x288 with 1 Axes>"
            ]
          },
          "metadata": {
            "needs_background": "light"
          }
        }
      ]
    },
    {
      "cell_type": "markdown",
      "source": [
        "In the above table and plot, we can see that no. of iterations for backtracking with scaling algorithm are increasing very slowly as we decrease the value of rho. and no of iterations for backtracking without scaling increases as we decreaser the value of rho from 0.9 to 0.1 then it decreases when we decrease the value of rho from 0.1 to 0.01.\n",
        "\n",
        "The value of optimizer is $[0,0]$(approximately),and the optimum value is also 0(approximately) for both algorithms."
      ],
      "metadata": {
        "id": "W_OsUqFn6gpu"
      }
    },
    {
      "cell_type": "code",
      "source": [
        ""
      ],
      "metadata": {
        "id": "XqGQ3xKk98Ux"
      },
      "execution_count": 60,
      "outputs": []
    }
  ]
}