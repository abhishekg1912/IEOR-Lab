{
  "nbformat": 4,
  "nbformat_minor": 0,
  "metadata": {
    "colab": {
      "name": "21i190005_IE684_Lab3_Ex2.ipynb",
      "provenance": [],
      "collapsed_sections": []
    },
    "kernelspec": {
      "name": "python3",
      "display_name": "Python 3"
    },
    "language_info": {
      "name": "python"
    }
  },
  "cells": [
    {
      "cell_type": "markdown",
      "source": [
        "Consider the problem $\\min_{\\mathbf{x}}{q(\\mathbf{x})} = q(x_1,x_2) = 512(x_2 - x_1^2)^2 + (4 - x_1)^2$. "
      ],
      "metadata": {
        "id": "mEo7sobbBZyO"
      }
    },
    {
      "cell_type": "code",
      "execution_count": 63,
      "metadata": {
        "id": "4fsOW8_4KHmp"
      },
      "outputs": [],
      "source": [
        "import numpy as np"
      ]
    },
    {
      "cell_type": "code",
      "source": [
        "def evalf(x):\n",
        "  assert type(x) is np.ndarray\n",
        "  assert len(x)==2\n",
        "  return 512*(x[1]-x[0]**2)**2+(4-x[0])**2"
      ],
      "metadata": {
        "id": "vfTHHLsl8rpc"
      },
      "execution_count": 64,
      "outputs": []
    },
    {
      "cell_type": "code",
      "source": [
        "def evalg(x):\n",
        "  assert type(x) is np.ndarray\n",
        "  assert len(x)==2\n",
        "  return np.array([-2048*x[0]*(x[1]-x[0]**2)-2*(4-x[0]),1024*(x[1]-x[0]**2)])"
      ],
      "metadata": {
        "id": "WJ3dsrL5B-kb"
      },
      "execution_count": 65,
      "outputs": []
    },
    {
      "cell_type": "code",
      "source": [
        "def evalh(x):\n",
        "  assert type(x) is np.ndarray \n",
        "  assert len(x)==2\n",
        "  a11=6144*(x[0]**2)-2048*x[1]+2\n",
        "  a12=-2048*x[0]\n",
        "  a21=-2048*x[0]\n",
        "  a22=1024\n",
        "  return np.array([[a11,a12],[a21,a22]])"
      ],
      "metadata": {
        "id": "XNVkX6jyd7gP"
      },
      "execution_count": 66,
      "outputs": []
    },
    {
      "cell_type": "code",
      "source": [
        ""
      ],
      "metadata": {
        "id": "vJV_TnM37RBy"
      },
      "execution_count": 66,
      "outputs": []
    },
    {
      "cell_type": "code",
      "source": [
        "def find_condition_number(A):\n",
        "  assert type(A) is np.ndarray\n",
        "  assert A.shape[0]==2 and A.shape[1]==2\n",
        "  eig_values=np.linalg.eigvals(A)\n",
        "  return max(eig_values)/min(eig_values)"
      ],
      "metadata": {
        "id": "v_iIxr_pfmMB"
      },
      "execution_count": 67,
      "outputs": []
    },
    {
      "cell_type": "markdown",
      "source": [
        "$\\textbf{Question:1}$ "
      ],
      "metadata": {
        "id": "caD_396_gccf"
      }
    },
    {
      "cell_type": "markdown",
      "source": [
        "Since the Hassian matrix for $q(x)$ can be written as:-\n",
        "$$\\nabla^2q(x)=\\begin{bmatrix}\n",
        "6144x_1^2-2048x_2+2 & -2048x_1\\\\\n",
        "-2048x_1 & 1024\n",
        "\\end{bmatrix}$$\n",
        "\n",
        "The diagonal matrix $\\mathbf{D}^k$ that has the inverse of second partial derivatives $\\Big(\\frac{\\partial^2f(\\mathbf{x_k})}{(\\partial x_i)^2}\\Big)^{-1}$ along the diagonal.\n",
        "\n",
        "\n",
        "$\\therefore \\mathbf{D^k}$ can be written as:\n",
        "\n",
        "\n",
        "\n",
        "$$ \\mathbf{D^k} =\n",
        "\\begin{bmatrix}\n",
        "  \\frac{1}{ 6144x_1^2-2048x_2+2} & 0 \\\\ 0 & \\frac{1}{1024}\n",
        "\\end{bmatrix}$$"
      ],
      "metadata": {
        "id": "GsH7QpPZgg4S"
      }
    },
    {
      "cell_type": "code",
      "source": [
        "def compute_D_k_diagonal(x):\n",
        "  assert type(x) is np.ndarray\n",
        "  assert len(x) == 2\n",
        "  return np.array([[1/(6144*(x[0]**2)-2048*x[1]+2), 0], [0, 1/1024]])\n"
      ],
      "metadata": {
        "id": "dnSOBmpVgM4G"
      },
      "execution_count": 68,
      "outputs": []
    },
    {
      "cell_type": "code",
      "source": [
        "compute_D_k_diagonal(np.array([1,1]))"
      ],
      "metadata": {
        "colab": {
          "base_uri": "https://localhost:8080/"
        },
        "id": "ccaisPGr40op",
        "outputId": "d839a565-8997-4948-811a-39de7d09222a"
      },
      "execution_count": 69,
      "outputs": [
        {
          "output_type": "execute_result",
          "data": {
            "text/plain": [
              "array([[0.00024402, 0.        ],\n",
              "       [0.        , 0.00097656]])"
            ]
          },
          "metadata": {},
          "execution_count": 69
        }
      ]
    },
    {
      "cell_type": "code",
      "source": [
        "def compute_steplength_backtracking(x, gradf, alpha_start, rho, gamma): #add appropriate arguments to the function \n",
        "  assert type(x) is np.ndarray and len(gradf) == 2 \n",
        "  assert type(gradf) is np.ndarray and len(gradf) == 2 \n",
        "  assert type(alpha_start) is float and alpha_start>=0. \n",
        "  assert type(rho) is float and rho>=0.\n",
        "  assert type(gamma) is float and gamma>=0. \n",
        "  \n",
        "  #Complete the code \n",
        "  alpha = alpha_start\n",
        "  p=rho\n",
        "  y=gamma\n",
        "  #implement the backtracking line search\n",
        "  while evalf(x+alpha*(-gradf)) > evalf(x)-y*alpha*np.dot((gradf.T),gradf):\n",
        "    alpha=p*alpha\n",
        "\n",
        "\n",
        "  #print('final step length:',alpha)\n",
        "  return alpha\n",
        "  "
      ],
      "metadata": {
        "id": "3WbL4pxTiimx"
      },
      "execution_count": 70,
      "outputs": []
    },
    {
      "cell_type": "code",
      "source": [
        "def compute_steplength_backtracking_scaled_direction(x, gradf, alpha_start, rho, gamma): #add appropriate arguments to the function \n",
        "  assert type(x) is np.ndarray and len(gradf) == 2 \n",
        "  assert type(gradf) is np.ndarray and len(gradf) == 2 \n",
        "  assert type(alpha_start) is float and alpha_start>=0. \n",
        "  assert type(rho) is float and rho>=0.\n",
        "  assert type(gamma) is float and gamma>=0. \n",
        "  alpha = alpha_start\n",
        "  p = - gradf\n",
        "  D_k = compute_D_k_diagonal(x)\n",
        "  r=rho\n",
        "  y=gamma\n",
        "  while evalf(x + alpha*np.matmul(D_k,p)) > evalf(x) + y*alpha* (np.matmul(np.matrix.transpose(gradf), np.matmul(D_k,p)) ):\n",
        "    alpha=alpha*r\n",
        "  return alpha\n",
        "\n",
        "  \n",
        "  "
      ],
      "metadata": {
        "id": "CuDgnm-cikKl"
      },
      "execution_count": 71,
      "outputs": []
    },
    {
      "cell_type": "code",
      "source": [
        "EXACT_LINE_SEARCH = 1\n",
        "BACKTRACKING_LINE_SEARCH = 2\n",
        "CONSTANT_STEP_LENGTH = 3"
      ],
      "metadata": {
        "id": "hoP0gO9di18e"
      },
      "execution_count": 72,
      "outputs": []
    },
    {
      "cell_type": "code",
      "source": [
        "def find_minimizer_gd(start_x, tol, line_search_type,*args):\n",
        "  #Input: start_x is a numpy array of size 2, tol denotes the tolerance and is a positive float value\n",
        "  assert type(start_x) is np.ndarray and len(start_x) == 2 #do not allow arbitrary arguments \n",
        "  assert type(tol) is float and tol>=0 \n",
        "  x = start_x\n",
        "  g_x = evalg(x)\n",
        "  cond_num_lst = []\n",
        "  itr_lst = []\n",
        "\n",
        "  #initialization for backtracking line search\n",
        "  if(line_search_type == BACKTRACKING_LINE_SEARCH):\n",
        "    alpha_start = args[0]\n",
        "    rho = args[1]\n",
        "    gamma = args[2]\n",
        "    print('Params for Backtracking LS: alpha start:', alpha_start, 'rho:', rho,' gamma:', gamma)\n",
        "\n",
        "  k = 0\n",
        "  #print('iter:',k, ' x:', x, ' f(x):', evalf(x), ' grad at x:', g_x, ' gradient norm:', np.linalg.norm(g_x))\n",
        "\n",
        "  while (np.linalg.norm(g_x) > tol): #continue as long as the norm of gradient is not close to zero upto a tolerance tol\n",
        "  \n",
        "    if line_search_type == EXACT_LINE_SEARCH:\n",
        "      step_length = compute_steplength_exact(g_x, A) #call the new function you wrote to compute the steplength\n",
        "      #raise ValueError('EXACT LINE SEARCH NOT YET IMPLEMENTED')\n",
        "    elif line_search_type == BACKTRACKING_LINE_SEARCH:\n",
        "      step_length = compute_steplength_backtracking(x,g_x, alpha_start,rho, gamma) #call the new function you wrote to compute the steplength\n",
        "      #raise ValueError('BACKTRACKING LINE SEARCH NOT YET IMPLEMENTED')\n",
        "    elif line_search_type == CONSTANT_STEP_LENGTH: #do a gradient descent with constant step length\n",
        "      step_length = 0.1\n",
        "    else:  \n",
        "      raise ValueError('Line search type unknown. Please check!')\n",
        "\n",
        "    cond_num_lst.append(find_condition_number(evalh(x)))\n",
        "    #implement the gradient descent steps here   \n",
        "    x = np.subtract(x, np.multiply(step_length,g_x)) #update x = x - step_length*g_x\n",
        "    k += 1 #increment iteration\n",
        "    g_x = evalg(x) #compute gradient at new point\n",
        "    itr_lst.append(k)\n",
        "\n",
        "    #print('iter:',k, ' x:', x, ' f(x):', evalf(x), ' grad at x:', g_x, ' gradient norm:', np.linalg.norm(g_x))\n",
        "  return x ,k ,cond_num_lst, itr_lst \n"
      ],
      "metadata": {
        "id": "PHkLNGsSi2fU"
      },
      "execution_count": 73,
      "outputs": []
    },
    {
      "cell_type": "code",
      "source": [
        "def find_minimizer_gdscaling(start_x, tol, line_search_type,*args):\n",
        "  #Input: start_x is a numpy array of size 2, tol denotes the tolerance and is a positive float value\n",
        "  assert type(start_x) is np.ndarray and len(start_x) == 2 #do not allow arbitrary arguments \n",
        "  assert type(tol) is float and tol>=0 \n",
        "  x = start_x\n",
        "  g_x = evalg(x)\n",
        "  #initialization for backtracking line search\n",
        "  if(line_search_type == BACKTRACKING_LINE_SEARCH):\n",
        "    alpha_start = args[0]\n",
        "    rho = args[1]\n",
        "    gamma = args[2]\n",
        "    #print('Params for Backtracking LS: alpha start:', alpha_start, 'rho:', rho,' gamma:', gamma)\n",
        "\n",
        "  k = 0\n",
        "  while (np.linalg.norm(g_x) > tol):\n",
        "    D_k = compute_D_k_diagonal(x) #continue as long as the norm of gradient is not close to zero upto a tolerance tol\n",
        "  \n",
        "    if line_search_type == EXACT_LINE_SEARCH:\n",
        "      step_length = compute_steplength_exact(g_x, A) #call the new function you wrote to compute the steplength\n",
        "      #raise ValueError('EXACT LINE SEARCH NOT YET IMPLEMENTED')\n",
        "    elif line_search_type == BACKTRACKING_LINE_SEARCH:\n",
        "      step_length = compute_steplength_backtracking_scaled_direction(x, g_x, alpha_start, rho, gamma) #call the new function you wrote to compute the steplength\n",
        "      #raise ValueError('BACKTRACKING LINE SEARCH NOT YET IMPLEMENTED')\n",
        "    elif line_search_type == CONSTANT_STEP_LENGTH: #do a gradient descent with constant step length\n",
        "      step_length = 0.1\n",
        "    else:  \n",
        "      raise ValueError('Line search type unknown. Please check!')\n",
        "    \n",
        "    #implement the gradient descent steps here  \n",
        "    x = np.subtract(x, np.multiply(step_length,np.matmul(D_k, g_x))) #update x = x - step_length*g_x\n",
        "    k += 1 #increment iteration\n",
        "    g_x = evalg(x) #compute gradient at new point\n",
        "  return x, k"
      ],
      "metadata": {
        "id": "UUh7QiMm9D3H"
      },
      "execution_count": 74,
      "outputs": []
    },
    {
      "cell_type": "code",
      "source": [
        "my_start_x=np.array([8.,8.])\n",
        "my_tol=1e-5\n",
        "print(f\"For Backtracking line search procedure:\")\n",
        "x_opt_bls,iterations,c_list,itr_list = find_minimizer_gd(my_start_x, my_tol, BACKTRACKING_LINE_SEARCH, 1., 0.5,0.5)\n",
        "print(f\"Value of optimizer for Backtracking line search ={x_opt_bls} \\nMinimum value is= {evalf(x_opt_bls)}\\nNumber of iterations are= {iterations}\")"
      ],
      "metadata": {
        "colab": {
          "base_uri": "https://localhost:8080/"
        },
        "id": "b-uemj3fjSH0",
        "outputId": "92b95d3a-7adf-4e51-a41a-c3a5d02b512d"
      },
      "execution_count": 75,
      "outputs": [
        {
          "output_type": "stream",
          "name": "stdout",
          "text": [
            "For Backtracking line search procedure:\n",
            "Params for Backtracking LS: alpha start: 1.0 rho: 0.5  gamma: 0.5\n",
            "Value of optimizer for Backtracking line search =[ 3.99995978 15.99967826] \n",
            "Minimum value is= 1.6173741774296086e-09\n",
            "Number of iterations are= 902339\n"
          ]
        }
      ]
    },
    {
      "cell_type": "code",
      "source": [
        "my_start_x=np.array([8.,8.])\n",
        "my_tol=1e-5\n",
        "print(f\"For scaled Backtracking line search procedure:\")\n",
        "x_opt_bls,iterations = find_minimizer_gdscaling(my_start_x, my_tol, BACKTRACKING_LINE_SEARCH, 1., 0.5,0.5)\n",
        "print(f\"Value of optimizer for scaled Backtracking line search ={x_opt_bls} \\nMinimum value is= {evalf(x_opt_bls)}\\nNumber of iterations are= {iterations}\")"
      ],
      "metadata": {
        "colab": {
          "base_uri": "https://localhost:8080/"
        },
        "id": "LJTMmIgXke-1",
        "outputId": "9bffe9be-8e1a-4889-bd17-5382de3a365a"
      },
      "execution_count": 76,
      "outputs": [
        {
          "output_type": "stream",
          "name": "stdout",
          "text": [
            "For scaled Backtracking line search procedure:\n",
            "Value of optimizer for scaled Backtracking line search =[ 4.00000993 16.0000794 ] \n",
            "Minimum value is= 9.850897480037126e-11\n",
            "Number of iterations are= 904703\n"
          ]
        }
      ]
    },
    {
      "cell_type": "markdown",
      "source": [
        "$\\textbf{Question:3}$ \n",
        "\n",
        "yes,we can identify and write down the matrix Q whose condition number needs to be analyzed in the\n",
        "new gradient descent scheme with scaling with $\\mathbf{D}^k = (\\nabla^2q(\\mathbf{x}))^{-1} $\n",
        "and Q can be written as\n",
        "$$\\mathbf{Q} = \\mathbf{(D^k)}^{\\frac{1}{2}}H^k \\mathbf{(D^k)}^{\\frac{1}{2}}$$ where $H^k$ is Hassian matrix of a function for $k^{th}$ iteration\n",
        "\n"
      ],
      "metadata": {
        "id": "2JWIAFUQvH2h"
      }
    },
    {
      "cell_type": "code",
      "source": [
        "def compute_D_k(x):\n",
        "  assert type(x) is np.ndarray\n",
        "  assert len(x) == 2\n",
        "  if np.linalg.det(evalh(x)) == 0:\n",
        "    raise ValueError('Determinant of Hassian is zero')\n",
        "  return np.linalg.inv(evalh(x))\n"
      ],
      "metadata": {
        "id": "oochlI2an2Wo"
      },
      "execution_count": 77,
      "outputs": []
    },
    {
      "cell_type": "code",
      "source": [
        "def compute_steplength_backtracking_scaled_direction_newton(x, gradf, alpha_start, rho, gamma): #add appropriate arguments to the function \n",
        "  assert type(x) is np.ndarray and len(gradf) == 2 \n",
        "  assert type(gradf) is np.ndarray and len(gradf) == 2 \n",
        "  #assert type(direction) is np.ndarray and len(direction) == 2 \n",
        "  assert type(alpha_start) is float and alpha_start>=0. \n",
        "  assert type(rho) is float and rho>=0.\n",
        "  assert type(gamma) is float and gamma>=0. \n",
        "  alpha = alpha_start\n",
        "  p = - gradf\n",
        "  D_k = compute_D_k(x)\n",
        "  y=gamma\n",
        "  #implement the backtracking line search\n",
        "  #print(evalf(x + alpha*p), evalf(x) + gamma * alpha* (np.matmul(np.matrix.transpose(p), p) ))\n",
        "  while evalf(x + alpha*np.matmul(D_k,p)) > evalf(x) + y * alpha* (np.matmul(np.matrix.transpose(gradf), np.matmul(D_k,p)) ):\n",
        "    alpha = alpha * rho\n",
        "  return alpha  "
      ],
      "metadata": {
        "id": "_pFP5DAYNMvo"
      },
      "execution_count": 78,
      "outputs": []
    },
    {
      "cell_type": "code",
      "source": [
        "def find_minimizer_gdscaling_newton(start_x, tol, line_search_type, *args):\n",
        "  #Input: start_x is a numpy array of size 2, tol denotes the tolerance and is a positive float value\n",
        "  assert type(start_x) is np.ndarray and len(start_x) == 2 #do not allow arbitrary arguments \n",
        "  assert type(tol) is float and tol>=0 \n",
        "  x = start_x\n",
        "  g_x = evalg(x)\n",
        "  condition_number_array_scaling = []\n",
        "  list_of_iterations=[]\n",
        "  #initialization for backtracking line search\n",
        "  if(line_search_type == BACKTRACKING_LINE_SEARCH):\n",
        "    alpha_start = args[0]\n",
        "    rho = args[1]\n",
        "    gamma = args[2]\n",
        "    #print('Params for Backtracking LS: alpha start:', alpha_start, 'rho:', rho,' gamma:', gamma)\n",
        "\n",
        "  k = 0\n",
        "  while (np.linalg.norm(g_x) > tol): #continue as long as the norm of gradient is not close to zero upto a tolerance tol\n",
        "    D_k = compute_D_k(x)\n",
        "    import scipy\n",
        "    from scipy.linalg import sqrtm\n",
        "    d = scipy.linalg.sqrtm(D_k)\n",
        "    C1 = np.matmul(np.matmul(d,evalh(x)),d)\n",
        "    condition_number_array_scaling.append(find_condition_number(C1))\n",
        "    if line_search_type == BACKTRACKING_LINE_SEARCH:\n",
        "      step_length = compute_steplength_backtracking_scaled_direction_newton(x, g_x, alpha_start, rho, gamma) #call the new function you wrote to compute the steplength\n",
        "    else:  \n",
        "      raise ValueError('Line search type unknown. Please check!')\n",
        "    \n",
        "    #implement the gradient descent steps here  \n",
        "    x = np.subtract(x, np.multiply(step_length,np.matmul(D_k, g_x))) #update x = x - step_length*g_x\n",
        "    k += 1 #increment iteration\n",
        "    g_x = evalg(x) #compute gradient at new point\n",
        "    list_of_iterations.append(k)\n",
        "  return x, k, condition_number_array_scaling,list_of_iterations"
      ],
      "metadata": {
        "id": "eueqxjXDNYA0"
      },
      "execution_count": 79,
      "outputs": []
    },
    {
      "cell_type": "code",
      "source": [
        "my_start_x = np.array([8.0,8.0])\n",
        "my_tol= 1e-5\n",
        "print(f\"For scaled(newton's method) Backtracking line search procedure:\")\n",
        "x_opt_bls,iterations,condition_number_value, itr_lst2 = find_minimizer_gdscaling_newton(my_start_x, my_tol, BACKTRACKING_LINE_SEARCH, 1., 0.5,0.5)\n",
        "print(f\"Value of optimizer for scaled(newton's method) Backtracking line search ={x_opt_bls} \\nMinimum value is= {evalf(x_opt_bls)}\\nNumber of iterations are= {iterations}\")"
      ],
      "metadata": {
        "colab": {
          "base_uri": "https://localhost:8080/"
        },
        "id": "4ielkbA9OImw",
        "outputId": "0218ef76-3437-4221-dea9-7a41fb8e4b73"
      },
      "execution_count": 80,
      "outputs": [
        {
          "output_type": "stream",
          "name": "stdout",
          "text": [
            "For scaled(newton's method) Backtracking line search procedure:\n",
            "Value of optimizer for scaled(newton's method) Backtracking line search =[ 4. 16.] \n",
            "Minimum value is= 2.356430075812841e-25\n",
            "Number of iterations are= 48\n"
          ]
        }
      ]
    },
    {
      "cell_type": "markdown",
      "source": [
        "$\\textbf{Question:4}$ "
      ],
      "metadata": {
        "id": "NDZVa08VSg68"
      }
    },
    {
      "cell_type": "markdown",
      "source": [
        "$\\textbf{1. Backtracking line search (without scaling)}$\n",
        "\n",
        "value of optimizer=$[ 3.99995978,15.99967826] $\n",
        "\n",
        "no. of iterations=902339\n",
        "\n",
        "optimum value =$1.6173741774296086e-09$\n",
        "\n",
        "$\\textbf{2. Backtracking line search (with scaling)}$\n",
        "\n",
        "value of optimizer=$[ 4.00000993,16.0000794 ]  $\n",
        "\n",
        "no. of iterations=904703\n",
        "\n",
        "optimum value =$9.850897480037126e-11$\n",
        "\n",
        "$\\textbf{3. Backtracking line search (with scaling)(newton's method)}$\n",
        "\n",
        "value of optimizer=$[ 4.,16. ]  $\n",
        "\n",
        "no. of iterations=48\n",
        "\n",
        "optimum value =$2.356430075812841e-25$\n",
        "\n",
        "Here. i observed that we got exact value of optimizer by Backtracking line search (with scaling)(newton's method) algorithm and this algo takes only 48 iterations to terminate. while other iterations like Backtracking line search (with scaling) take 904703 iterations and Backtracking line search (without scaling) takes 902339 iterations to terminate.\n",
        "\n",
        "And in all three algorithms the minimum value of function is approximately zero."
      ],
      "metadata": {
        "id": "-5Vp6t9BSSbV"
      }
    },
    {
      "cell_type": "markdown",
      "source": [
        "**I plotted both graphs separately because it was hard to visualise these two graph in a single plot.**"
      ],
      "metadata": {
        "id": "SYMBxNC0jyZu"
      }
    },
    {
      "cell_type": "code",
      "source": [
        "import matplotlib.pyplot as plt\n",
        "plt.figure(figsize=(9,7))\n",
        "plt.plot(itr_list,c_list,label= 'without scaling', color = 'cyan') \n",
        "plt.title('Graph of condition number of the Hessian matrix without scaling',fontsize=15)\n",
        "plt.xlabel('Iterations',fontsize=15)\n",
        "plt.ylabel('Condition Number',fontsize=15)\n",
        "plt.legend(loc = 'upper right')\n",
        "plt.show()"
      ],
      "metadata": {
        "colab": {
          "base_uri": "https://localhost:8080/",
          "height": 465
        },
        "id": "2YzPMFEKPiAq",
        "outputId": "aab31b77-ad31-42eb-d5a6-33324373fa8f"
      },
      "execution_count": 81,
      "outputs": [
        {
          "output_type": "display_data",
          "data": {
            "image/png": "[encoded data removed]",
            "text/plain": [
              "<Figure size 648x504 with 1 Axes>"
            ]
          },
          "metadata": {
            "needs_background": "light"
          }
        }
      ]
    },
    {
      "cell_type": "code",
      "source": [
        "plt.figure(figsize=(9,7))\n",
        "plt.plot(itr_lst2,condition_number_value,label='with scaling', color = 'blue')\n",
        "plt.title('Graph of condition number of the Hessian matrix with scaling',fontsize=15)\n",
        "plt.xlabel('Iterations',fontsize=15)\n",
        "plt.ylabel('Condition Number',fontsize=15)\n",
        "plt.legend(loc = 'upper right')\n",
        "plt.show()"
      ],
      "metadata": {
        "id": "7FBm7i46aaM7",
        "colab": {
          "base_uri": "https://localhost:8080/",
          "height": 500
        },
        "outputId": "43951837-99dd-4d71-be52-62c2517fc213"
      },
      "execution_count": 82,
      "outputs": [
        {
          "output_type": "stream",
          "name": "stderr",
          "text": [
            "/usr/local/lib/python3.7/dist-packages/numpy/core/_asarray.py:83: ComplexWarning: Casting complex values to real discards the imaginary part\n",
            "  return array(a, dtype, copy=False, order=order)\n"
          ]
        },
        {
          "output_type": "display_data",
          "data": {
            "image/png": "[encoded data removed]",
            "text/plain": [
              "<Figure size 648x504 with 1 Axes>"
            ]
          },
          "metadata": {
            "needs_background": "light"
          }
        }
      ]
    },
    {
      "cell_type": "markdown",
      "source": [
        "Here, we can see that in without scaling graph the value of condition number increases from 0 to almost 2 in 600000 iterations after this the value of condition number become constant while in with scaling the value of condition number sharply increases and decreases from iteration 0 to 5(approx) after that the condition number lies in the neighbourhood of 0."
      ],
      "metadata": {
        "id": "ttHrUD2TkfMw"
      }
    },
    {
      "cell_type": "code",
      "source": [
        ""
      ],
      "metadata": {
        "id": "-cCmhTXqhn7J"
      },
      "execution_count": 82,
      "outputs": []
    }
  ]
}