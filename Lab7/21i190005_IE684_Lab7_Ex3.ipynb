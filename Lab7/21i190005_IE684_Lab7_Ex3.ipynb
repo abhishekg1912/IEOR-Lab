{
  "nbformat": 4,
  "nbformat_minor": 0,
  "metadata": {
    "colab": {
      "name": "21i190005_IE684_Lab7_Ex3.ipynb",
      "provenance": []
    },
    "kernelspec": {
      "name": "python3",
      "display_name": "Python 3"
    },
    "language_info": {
      "name": "python"
    }
  },
  "cells": [
    {
      "cell_type": "markdown",
      "source": [
        "#**EXERCISE-3**"
      ],
      "metadata": {
        "id": "GbfsZ1hZc0_z"
      }
    },
    {
      "cell_type": "markdown",
      "source": [
        "#Que.1\n",
        "Appropriate choice for $f_i(x) $can be:\n",
        "$$f_i(x) = \\frac{λ}{2N}\\sum_{j = 1}^{d}x_j^2 +\\frac{1}{2}[(\\sum_{j=1}^{d}A_{ij}x_j)-y_i]^{2} $$\n",
        "\n"
      ],
      "metadata": {
        "id": "W43NlxAvqBQb"
      }
    },
    {
      "cell_type": "markdown",
      "source": [
        "#Que.2\n",
        "\n",
        "The $k^{th}$ component of the function can be written as:\n",
        "\n",
        "$$g_i(x)=∇xf_i(x)=\\frac{λ}{N}x_k+[(\\sum_{j=1}^{d}A_{ij}x_j)-y_i]A_{ik}$$"
      ],
      "metadata": {
        "id": "FPhEmhS_qE1p"
      }
    },
    {
      "cell_type": "markdown",
      "source": [
        "#Que.3"
      ],
      "metadata": {
        "id": "84UI0w_fqg5K"
      }
    },
    {
      "cell_type": "code",
      "execution_count": null,
      "metadata": {
        "id": "0Oe4VfjIpBdG"
      },
      "outputs": [],
      "source": [
        "import numpy as np\n",
        "import timeit\n",
        "from tabulate import tabulate\n",
        "np.random.seed(1000)"
      ]
    },
    {
      "cell_type": "code",
      "source": [
        "N = 200\n",
        "d = 10000\n",
        "lambda_reg = 0.001\n",
        "eps = np.random.randn(N,1)\n",
        "\n",
        "A = np.random.randn(N,d)\n",
        "for  j in range(A.shape[1]):\n",
        "  A[:,j] = A[:,j]/np.linalg.norm(A[:,j])\n",
        "\n",
        "xorig = np.ones((d,1))\n",
        "y = np.dot(A,xorig) + eps  "
      ],
      "metadata": {
        "id": "tZJSKpo2q1Ni"
      },
      "execution_count": null,
      "outputs": []
    },
    {
      "cell_type": "code",
      "source": [
        "def evalg(x, i, lamda, d):\n",
        "  assert type(x) is np.ndarray \n",
        "  A_i = np.reshape(A[i], (d, 1))\n",
        "  return np.add(np.reshape(np.matmul(A_i, np.subtract(np.matmul(A[i], x), y[i])), (d,1)), np.multiply(lamda/N, x))"
      ],
      "metadata": {
        "id": "K3uuYn2xrHul"
      },
      "execution_count": null,
      "outputs": []
    },
    {
      "cell_type": "code",
      "source": [
        "x = np.zeros((d,1))\n",
        "epochs = 1e4\n",
        "t = 1\n",
        "arr = np.arange(N)\n",
        "table = [[\"Time Taken\", \"||Ax_alglab7 - y||^2\", \"||x_alglab7 - xorig||^2\"]]\n",
        "start = timeit.default_timer()\n",
        "for epoch in range(int(epochs)):\n",
        "  np.random.shuffle(arr)\n",
        "  for i in np.nditer(arr):\n",
        "    g_x = evalg(x, i, lambda_reg, d)\n",
        "    x = np.subtract(x , (1/t)*g_x)\n",
        "    t = t+1\n",
        "    if t>1e4:\n",
        "      t = 1\n",
        "alglab7time = timeit.default_timer() - start\n",
        "x_alglab7 = x\n",
        "table.append([alglab7time, np.linalg.norm(np.subtract(np.matmul(A, x_alglab7) , y))**2, np.linalg.norm(np.subtract(x_alglab7 , xorig)**2)])      "
      ],
      "metadata": {
        "id": "H1EWXSN6rNIN"
      },
      "execution_count": null,
      "outputs": []
    },
    {
      "cell_type": "code",
      "source": [
        "print(tabulate(table, headers = 'firstrow', tablefmt = 'fancy_grid'))"
      ],
      "metadata": {
        "colab": {
          "base_uri": "https://localhost:8080/"
        },
        "id": "8Rp8xiMKrVdZ",
        "outputId": "8272fc56-56aa-4c93-c4a8-52da62410447"
      },
      "execution_count": null,
      "outputs": [
        {
          "output_type": "stream",
          "name": "stdout",
          "text": [
            "╒══════════════╤════════════════════════╤═══════════════════════════╕\n",
            "│   Time Taken │   ||Ax_alglab7 - y||^2 │   ||x_alglab7 - xorig||^2 │\n",
            "╞══════════════╪════════════════════════╪═══════════════════════════╡\n",
            "│      192.918 │            2.14994e-05 │                   101.695 │\n",
            "╘══════════════╧════════════════════════╧═══════════════════════════╛\n"
          ]
        }
      ]
    },
    {
      "cell_type": "markdown",
      "source": [
        "#Que.4"
      ],
      "metadata": {
        "id": "RMiVgtWYrYrG"
      }
    },
    {
      "cell_type": "code",
      "source": [
        "epoch_list = [10**4, 5*10**4, 10**5]\n",
        "table1 = [[\"epochs\",\"Time Taken\", \"||Ax_alglab7 - y||^2\", \"||x_alglab7 - xorig||^2\"]]\n",
        "for e in epoch_list:\n",
        "  start = timeit.default_timer()\n",
        "  for epoch in range(int(e)):\n",
        "    np.random.shuffle(arr)\n",
        "    for i in np.nditer(arr):\n",
        "      g_x = evalg(x, i, lambda_reg, d)\n",
        "      x = np.subtract(x , (1/t)*g_x)\n",
        "      t = t+1\n",
        "      if t>1e4:\n",
        "       t = 1\n",
        "  alglab7time = timeit.default_timer() - start\n",
        "  x_alglab7 = x\n",
        "  table1.append([e,alglab7time, np.linalg.norm(np.subtract(np.matmul(A, x_alglab7) , y))**2, np.linalg.norm(np.subtract(x_alglab7 , xorig)**2)])    "
      ],
      "metadata": {
        "id": "lCwvE0zAwRm0"
      },
      "execution_count": null,
      "outputs": []
    },
    {
      "cell_type": "code",
      "source": [
        "print(tabulate(table1, headers = 'firstrow', tablefmt = 'fancy_grid'))"
      ],
      "metadata": {
        "colab": {
          "base_uri": "https://localhost:8080/"
        },
        "id": "oe55Hcu4-7nG",
        "outputId": "e95d7467-e658-4ef0-e467-9326b6d4cc32"
      },
      "execution_count": null,
      "outputs": [
        {
          "output_type": "stream",
          "name": "stdout",
          "text": [
            "╒══════════╤══════════════╤════════════════════════╤═══════════════════════════╕\n",
            "│   epochs │   Time Taken │   ||Ax_alglab7 - y||^2 │   ||x_alglab7 - xorig||^2 │\n",
            "╞══════════╪══════════════╪════════════════════════╪═══════════════════════════╡\n",
            "│    10000 │      184.478 │            1.02773e-05 │                   101.695 │\n",
            "├──────────┼──────────────┼────────────────────────┼───────────────────────────┤\n",
            "│    50000 │      924.424 │            6.85016e-06 │                   101.695 │\n",
            "├──────────┼──────────────┼────────────────────────┼───────────────────────────┤\n",
            "│   100000 │     1839.78  │            7.19148e-06 │                   101.695 │\n",
            "╘══════════╧══════════════╧════════════════════════╧═══════════════════════════╛\n"
          ]
        }
      ]
    },
    {
      "cell_type": "markdown",
      "source": [
        "we can observe from the above table that the time taken by algorithm increses with increase in no. of epochs. and we can see that the value of norm (||Ax_alglab7 - y||^2) approaches to zero in every case."
      ],
      "metadata": {
        "id": "Zy_ttVnLWqBh"
      }
    },
    {
      "cell_type": "markdown",
      "source": [
        "#Que.5"
      ],
      "metadata": {
        "id": "frqcL3CU6j_E"
      }
    },
    {
      "cell_type": "code",
      "source": [
        "epochs = 10**5\n",
        "lamda_lst = [1000, 100, 10, 1, 0, 0.1]\n",
        "table2 = [[\"lamda\",\"Time Taken\", \"||Ax_alglab7 - y||^2\", \"||x_alglab7 - xorig||^2\"]]\n",
        "for lamda in lamda_lst:\n",
        "  start = timeit.default_timer()\n",
        "  for epoch in range(epochs):\n",
        "    np.random.shuffle(arr)\n",
        "    for i in np.nditer(arr):\n",
        "      g_x = evalg(x, i, lamda, d)\n",
        "      x = np.subtract(x , (1/t)*g_x)\n",
        "      t = t+1\n",
        "      if t>1e4:\n",
        "       t = 1\n",
        "  alglab7time = timeit.default_timer() - start\n",
        "  x_alglab7 = x\n",
        "  table2.append([lamda,alglab7time, np.linalg.norm(np.subtract(np.matmul(A, x_alglab7) , y))**2, np.linalg.norm(np.subtract(x_alglab7 , xorig)**2)])    \n"
      ],
      "metadata": {
        "id": "PdTPPMGP1Oaa"
      },
      "execution_count": null,
      "outputs": []
    },
    {
      "cell_type": "code",
      "source": [
        "epochs = 10**5\n",
        "lamda_lst = [0.01, 0.001]\n",
        "for lamda in lamda_lst:\n",
        "  start = timeit.default_timer()\n",
        "  for epoch in range(epochs):\n",
        "    np.random.shuffle(arr)\n",
        "    for i in np.nditer(arr):\n",
        "      g_x = evalg(x, i, lamda, d)\n",
        "      x = np.subtract(x , (1/t)*g_x)\n",
        "      t = t+1\n",
        "      if t>1e4:\n",
        "       t = 1\n",
        "  alglab7time = timeit.default_timer() - start\n",
        "  x_alglab7 = x\n",
        "  table2.append([lamda,alglab7time, np.linalg.norm(np.subtract(np.matmul(A, x_alglab7) , y))**2, np.linalg.norm(np.subtract(x_alglab7 , xorig)**2)])    \n"
      ],
      "metadata": {
        "id": "IQe6g3r66Wh3"
      },
      "execution_count": null,
      "outputs": []
    },
    {
      "cell_type": "code",
      "source": [
        "print(tabulate(table2, headers = 'firstrow', tablefmt = 'fancy_grid'))"
      ],
      "metadata": {
        "colab": {
          "base_uri": "https://localhost:8080/"
        },
        "id": "YJ83NeJp1abN",
        "outputId": "105bdc54-4098-488e-f25c-2479bd8cba02"
      },
      "execution_count": null,
      "outputs": [
        {
          "output_type": "stream",
          "name": "stdout",
          "text": [
            "╒══════════╤══════════════╤════════════════════════╤═══════════════════════════╕\n",
            "│    lamda │   Time Taken │   ||Ax_alglab7 - y||^2 │   ||x_alglab7 - xorig||^2 │\n",
            "╞══════════╪══════════════╪════════════════════════╪═══════════════════════════╡\n",
            "│ 1000     │      1844.5  │         7963.58        │                   99.8479 │\n",
            "├──────────┼──────────────┼────────────────────────┼───────────────────────────┤\n",
            "│  100     │      1847.6  │         3665.86        │                   99.4489 │\n",
            "├──────────┼──────────────┼────────────────────────┼───────────────────────────┤\n",
            "│   10     │      1837.18 │         1008.78        │                  101.537  │\n",
            "├──────────┼──────────────┼────────────────────────┼───────────────────────────┤\n",
            "│    1     │      1838.42 │           22.1943      │                  101.639  │\n",
            "├──────────┼──────────────┼────────────────────────┼───────────────────────────┤\n",
            "│    0     │      1811.05 │            1.55561e-25 │                  101.695  │\n",
            "├──────────┼──────────────┼────────────────────────┼───────────────────────────┤\n",
            "│    0.1   │      1839.75 │            0.876675    │                  101.693  │\n",
            "├──────────┼──────────────┼────────────────────────┼───────────────────────────┤\n",
            "│    0.01  │      1846.23 │            0.00217803  │                  101.694  │\n",
            "├──────────┼──────────────┼────────────────────────┼───────────────────────────┤\n",
            "│    0.001 │      1834.68 │            7.62485e-05 │                  101.695  │\n",
            "╘══════════╧══════════════╧════════════════════════╧═══════════════════════════╛\n"
          ]
        }
      ]
    },
    {
      "cell_type": "markdown",
      "source": [
        "we can see that the taken taken by algorithm is almost same for each value of lambda and we can also observe that the value of norm (||Ax_alglab7 - y||^2) decreases if we decrease the value of lamda from 1000 to 0 after that the value of norm slightly increases and then again decreases and approached to zero."
      ],
      "metadata": {
        "id": "5xVk7wDZWvJu"
      }
    },
    {
      "cell_type": "markdown",
      "source": [
        "#Que.6\n",
        "\n",
        "we can see in the previous exercises that our failure dimension was d=10,000 and in this exercise we saw that ALG-LAB7 works for d=10000."
      ],
      "metadata": {
        "id": "k0MvS5475bU3"
      }
    },
    {
      "cell_type": "markdown",
      "source": [
        "#Que.7\n",
        " I understand that the ALG-LAB7 method is almost similar to gradient descent because in this we are updating our x by $x=x-\\frac{1}{t}∇f_i(x)$, where $\\frac{1}{t}$ is considered as step length.\n",
        "\n",
        "This method works for higher dimensions also."
      ],
      "metadata": {
        "id": "8FhhGBfo5fz0"
      }
    },
    {
      "cell_type": "code",
      "source": [
        ""
      ],
      "metadata": {
        "id": "zcw2S0IKY3pT"
      },
      "execution_count": null,
      "outputs": []
    }
  ]
}