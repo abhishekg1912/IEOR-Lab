{
  "nbformat": 4,
  "nbformat_minor": 0,
  "metadata": {
    "colab": {
      "name": "21i190005_IE684_Lab7_Ex1.ipynb",
      "provenance": [],
      "collapsed_sections": []
    },
    "kernelspec": {
      "name": "python3",
      "display_name": "Python 3"
    },
    "language_info": {
      "name": "python"
    }
  },
  "cells": [
    {
      "cell_type": "markdown",
      "source": [
        "#**EXERCISE-1**"
      ],
      "metadata": {
        "id": "e_5liTIyRvP2"
      }
    },
    {
      "cell_type": "code",
      "execution_count": null,
      "metadata": {
        "id": "j7f-VlnW2fiF"
      },
      "outputs": [],
      "source": [
        "import numpy as np\n",
        "import math\n",
        "from sklearn.datasets import load_digits\n",
        "from tabulate import tabulate "
      ]
    },
    {
      "cell_type": "code",
      "source": [
        "digits = load_digits()\n",
        "print(digits.data.shape)\n",
        "print(digits.target.shape)"
      ],
      "metadata": {
        "colab": {
          "base_uri": "https://localhost:8080/"
        },
        "id": "E52XbmyP23B3",
        "outputId": "588c88bd-17d0-4abf-e89a-571428b5a1f3"
      },
      "execution_count": null,
      "outputs": [
        {
          "output_type": "stream",
          "name": "stdout",
          "text": [
            "(1797, 64)\n",
            "(1797,)\n"
          ]
        }
      ]
    },
    {
      "cell_type": "code",
      "source": [
        "A = digits.data\n",
        "y = 1.0*np.ones([A.shape[0],1])\n",
        "for i in range(digits.target.shape[0]):\n",
        "  y[i] = digits.target[i]"
      ],
      "metadata": {
        "id": "1p5Fkixr287Q"
      },
      "execution_count": null,
      "outputs": []
    },
    {
      "cell_type": "markdown",
      "source": [
        "# Que 1)"
      ],
      "metadata": {
        "id": "xDVMceeK3P9C"
      }
    },
    {
      "cell_type": "code",
      "source": [
        "def evalf(x,lamda):\n",
        "  assert type(x) is np.ndarray \n",
        "  return (lamda/2)*np.matmul(x.T,x)+0.5*(np.linalg.norm(np.matmul(A,x) - y))**2"
      ],
      "metadata": {
        "id": "7Mmlab8Y3HNC"
      },
      "execution_count": null,
      "outputs": []
    },
    {
      "cell_type": "code",
      "source": [
        "def evalg(x, lamda):\n",
        "  assert type(x) is np.ndarray\n",
        "  return np.add(np.matmul(A.T, np.subtract(np.matmul(A, x), y)), lamda * x)"
      ],
      "metadata": {
        "id": "Vj1KCnYa3n2L"
      },
      "execution_count": null,
      "outputs": []
    },
    {
      "cell_type": "code",
      "source": [
        "def evalh(x, lamda):\n",
        "  assert type(x) is np.ndarray\n",
        "  return np.add(np.matmul(A.T,A), lamda * np.identity(len(x)))"
      ],
      "metadata": {
        "id": "3iOWRDbu30ZM"
      },
      "execution_count": null,
      "outputs": []
    },
    {
      "cell_type": "code",
      "source": [
        "BACKTRACKING_LINE_SEARCH = 1"
      ],
      "metadata": {
        "id": "-q5-V38D358s"
      },
      "execution_count": null,
      "outputs": []
    },
    {
      "cell_type": "code",
      "source": [
        "def compute_steplength_backtracking_scaled_direction(x, gradf, direction, alpha_start, rho, gamma,lamda):\n",
        "  assert type(x) is np.ndarray \n",
        "  assert type(gradf) is np.ndarray \n",
        "  assert type(direction) is np.ndarray \n",
        "  assert type(alpha_start) is float and alpha_start>=0. \n",
        "  assert type(rho) is float and rho>=0.\n",
        "  assert type(gamma) is float and gamma>=0. \n",
        "  \n",
        "  alpha = alpha_start\n",
        "  while evalf(x+alpha*direction, lamda) > (evalf(x,lamda) + gamma*alpha*np.matmul(gradf.T,direction)):\n",
        "    alpha=rho*alpha\n",
        "\n",
        "  return alpha"
      ],
      "metadata": {
        "id": "N_sxrtKB38wo"
      },
      "execution_count": null,
      "outputs": []
    },
    {
      "cell_type": "code",
      "source": [
        "def find_minimizer_Newton(start_x, tol, line_search_type,lamda, *args):\n",
        "  assert type(start_x) is np.ndarray \n",
        "  assert type(tol) is float and tol>=0 \n",
        "  \n",
        "  x = start_x\n",
        "  g_x = evalg(x,lamda)\n",
        "\n",
        "  alpha_start = float(args[0])\n",
        "  rho = float(args[1])\n",
        "  gamma = float(args[2])\n",
        "\n",
        "  k = 0\n",
        "  while (np.linalg.norm(g_x) > tol):\n",
        "    D_k = np.linalg.inv(evalh(x,lamda))\n",
        "    p_k = -np.matmul(D_k,g_x)\n",
        "    step_length = compute_steplength_backtracking_scaled_direction(x, g_x,p_k, alpha_start, rho, gamma,lamda)\n",
        "     \n",
        "\n",
        "    x = np.subtract(x, np.multiply(step_length,np.matmul(D_k, g_x)))\n",
        "    k += 1\n",
        "    g_x = evalg(x,lamda) \n",
        "\n",
        "  return x,  k, evalf(x,lamda)"
      ],
      "metadata": {
        "id": "j7prnxPK4E7X"
      },
      "execution_count": null,
      "outputs": []
    },
    {
      "cell_type": "code",
      "source": [
        "#For direct OLSLR take lamda = 0\n",
        "my_start_x =np.zeros((64, 1))\n",
        "my_tol= 1e-3\n",
        "lamda = 0\n",
        "x, k, f_value = find_minimizer_Newton(my_start_x, my_tol, BACKTRACKING_LINE_SEARCH,lamda, 0.9 , 0.5, 0.5)\n"
      ],
      "metadata": {
        "colab": {
          "base_uri": "https://localhost:8080/",
          "height": 381
        },
        "id": "1sB5Ann74Fnr",
        "outputId": "3ad7ec46-75d5-4933-f0f8-10c1e16bcd83"
      },
      "execution_count": null,
      "outputs": [
        {
          "output_type": "error",
          "ename": "LinAlgError",
          "evalue": "ignored",
          "traceback": [
            "\u001b[0;31m---------------------------------------------------------------------------\u001b[0m",
            "\u001b[0;31mLinAlgError\u001b[0m                               Traceback (most recent call last)",
            "\u001b[0;32m<ipython-input-26-0465ac2461e4>\u001b[0m in \u001b[0;36m<module>\u001b[0;34m()\u001b[0m\n\u001b[1;32m      3\u001b[0m \u001b[0mmy_tol\u001b[0m\u001b[0;34m=\u001b[0m \u001b[0;36m1e-3\u001b[0m\u001b[0;34m\u001b[0m\u001b[0;34m\u001b[0m\u001b[0m\n\u001b[1;32m      4\u001b[0m \u001b[0mlamda\u001b[0m \u001b[0;34m=\u001b[0m \u001b[0;36m0\u001b[0m\u001b[0;34m\u001b[0m\u001b[0;34m\u001b[0m\u001b[0m\n\u001b[0;32m----> 5\u001b[0;31m \u001b[0mx\u001b[0m\u001b[0;34m,\u001b[0m \u001b[0mk\u001b[0m\u001b[0;34m,\u001b[0m \u001b[0mf_value\u001b[0m \u001b[0;34m=\u001b[0m \u001b[0mfind_minimizer_Newton\u001b[0m\u001b[0;34m(\u001b[0m\u001b[0mmy_start_x\u001b[0m\u001b[0;34m,\u001b[0m \u001b[0mmy_tol\u001b[0m\u001b[0;34m,\u001b[0m \u001b[0mBACKTRACKING_LINE_SEARCH\u001b[0m\u001b[0;34m,\u001b[0m\u001b[0mlamda\u001b[0m\u001b[0;34m,\u001b[0m \u001b[0;36m0.9\u001b[0m \u001b[0;34m,\u001b[0m \u001b[0;36m0.5\u001b[0m\u001b[0;34m,\u001b[0m \u001b[0;36m0.5\u001b[0m\u001b[0;34m)\u001b[0m\u001b[0;34m\u001b[0m\u001b[0;34m\u001b[0m\u001b[0m\n\u001b[0m",
            "\u001b[0;32m<ipython-input-25-68771f5e0dff>\u001b[0m in \u001b[0;36mfind_minimizer_Newton\u001b[0;34m(start_x, tol, line_search_type, lamda, *args)\u001b[0m\n\u001b[1;32m     12\u001b[0m   \u001b[0mk\u001b[0m \u001b[0;34m=\u001b[0m \u001b[0;36m0\u001b[0m\u001b[0;34m\u001b[0m\u001b[0;34m\u001b[0m\u001b[0m\n\u001b[1;32m     13\u001b[0m   \u001b[0;32mwhile\u001b[0m \u001b[0;34m(\u001b[0m\u001b[0mnp\u001b[0m\u001b[0;34m.\u001b[0m\u001b[0mlinalg\u001b[0m\u001b[0;34m.\u001b[0m\u001b[0mnorm\u001b[0m\u001b[0;34m(\u001b[0m\u001b[0mg_x\u001b[0m\u001b[0;34m)\u001b[0m \u001b[0;34m>\u001b[0m \u001b[0mtol\u001b[0m\u001b[0;34m)\u001b[0m\u001b[0;34m:\u001b[0m\u001b[0;34m\u001b[0m\u001b[0;34m\u001b[0m\u001b[0m\n\u001b[0;32m---> 14\u001b[0;31m     \u001b[0mD_k\u001b[0m \u001b[0;34m=\u001b[0m \u001b[0mnp\u001b[0m\u001b[0;34m.\u001b[0m\u001b[0mlinalg\u001b[0m\u001b[0;34m.\u001b[0m\u001b[0minv\u001b[0m\u001b[0;34m(\u001b[0m\u001b[0mevalh\u001b[0m\u001b[0;34m(\u001b[0m\u001b[0mx\u001b[0m\u001b[0;34m,\u001b[0m\u001b[0mlamda\u001b[0m\u001b[0;34m)\u001b[0m\u001b[0;34m)\u001b[0m\u001b[0;34m\u001b[0m\u001b[0;34m\u001b[0m\u001b[0m\n\u001b[0m\u001b[1;32m     15\u001b[0m     \u001b[0mp_k\u001b[0m \u001b[0;34m=\u001b[0m \u001b[0;34m-\u001b[0m\u001b[0mnp\u001b[0m\u001b[0;34m.\u001b[0m\u001b[0mmatmul\u001b[0m\u001b[0;34m(\u001b[0m\u001b[0mD_k\u001b[0m\u001b[0;34m,\u001b[0m\u001b[0mg_x\u001b[0m\u001b[0;34m)\u001b[0m\u001b[0;34m\u001b[0m\u001b[0;34m\u001b[0m\u001b[0m\n\u001b[1;32m     16\u001b[0m     \u001b[0mstep_length\u001b[0m \u001b[0;34m=\u001b[0m \u001b[0mcompute_steplength_backtracking_scaled_direction\u001b[0m\u001b[0;34m(\u001b[0m\u001b[0mx\u001b[0m\u001b[0;34m,\u001b[0m \u001b[0mg_x\u001b[0m\u001b[0;34m,\u001b[0m\u001b[0mp_k\u001b[0m\u001b[0;34m,\u001b[0m \u001b[0malpha_start\u001b[0m\u001b[0;34m,\u001b[0m \u001b[0mrho\u001b[0m\u001b[0;34m,\u001b[0m \u001b[0mgamma\u001b[0m\u001b[0;34m,\u001b[0m\u001b[0mlamda\u001b[0m\u001b[0;34m)\u001b[0m\u001b[0;34m\u001b[0m\u001b[0;34m\u001b[0m\u001b[0m\n",
            "\u001b[0;32m<__array_function__ internals>\u001b[0m in \u001b[0;36minv\u001b[0;34m(*args, **kwargs)\u001b[0m\n",
            "\u001b[0;32m/usr/local/lib/python3.7/dist-packages/numpy/linalg/linalg.py\u001b[0m in \u001b[0;36minv\u001b[0;34m(a)\u001b[0m\n\u001b[1;32m    543\u001b[0m     \u001b[0msignature\u001b[0m \u001b[0;34m=\u001b[0m \u001b[0;34m'D->D'\u001b[0m \u001b[0;32mif\u001b[0m \u001b[0misComplexType\u001b[0m\u001b[0;34m(\u001b[0m\u001b[0mt\u001b[0m\u001b[0;34m)\u001b[0m \u001b[0;32melse\u001b[0m \u001b[0;34m'd->d'\u001b[0m\u001b[0;34m\u001b[0m\u001b[0;34m\u001b[0m\u001b[0m\n\u001b[1;32m    544\u001b[0m     \u001b[0mextobj\u001b[0m \u001b[0;34m=\u001b[0m \u001b[0mget_linalg_error_extobj\u001b[0m\u001b[0;34m(\u001b[0m\u001b[0m_raise_linalgerror_singular\u001b[0m\u001b[0;34m)\u001b[0m\u001b[0;34m\u001b[0m\u001b[0;34m\u001b[0m\u001b[0m\n\u001b[0;32m--> 545\u001b[0;31m     \u001b[0mainv\u001b[0m \u001b[0;34m=\u001b[0m \u001b[0m_umath_linalg\u001b[0m\u001b[0;34m.\u001b[0m\u001b[0minv\u001b[0m\u001b[0;34m(\u001b[0m\u001b[0ma\u001b[0m\u001b[0;34m,\u001b[0m \u001b[0msignature\u001b[0m\u001b[0;34m=\u001b[0m\u001b[0msignature\u001b[0m\u001b[0;34m,\u001b[0m \u001b[0mextobj\u001b[0m\u001b[0;34m=\u001b[0m\u001b[0mextobj\u001b[0m\u001b[0;34m)\u001b[0m\u001b[0;34m\u001b[0m\u001b[0;34m\u001b[0m\u001b[0m\n\u001b[0m\u001b[1;32m    546\u001b[0m     \u001b[0;32mreturn\u001b[0m \u001b[0mwrap\u001b[0m\u001b[0;34m(\u001b[0m\u001b[0mainv\u001b[0m\u001b[0;34m.\u001b[0m\u001b[0mastype\u001b[0m\u001b[0;34m(\u001b[0m\u001b[0mresult_t\u001b[0m\u001b[0;34m,\u001b[0m \u001b[0mcopy\u001b[0m\u001b[0;34m=\u001b[0m\u001b[0;32mFalse\u001b[0m\u001b[0;34m)\u001b[0m\u001b[0;34m)\u001b[0m\u001b[0;34m\u001b[0m\u001b[0;34m\u001b[0m\u001b[0m\n\u001b[1;32m    547\u001b[0m \u001b[0;34m\u001b[0m\u001b[0m\n",
            "\u001b[0;32m/usr/local/lib/python3.7/dist-packages/numpy/linalg/linalg.py\u001b[0m in \u001b[0;36m_raise_linalgerror_singular\u001b[0;34m(err, flag)\u001b[0m\n\u001b[1;32m     86\u001b[0m \u001b[0;34m\u001b[0m\u001b[0m\n\u001b[1;32m     87\u001b[0m \u001b[0;32mdef\u001b[0m \u001b[0m_raise_linalgerror_singular\u001b[0m\u001b[0;34m(\u001b[0m\u001b[0merr\u001b[0m\u001b[0;34m,\u001b[0m \u001b[0mflag\u001b[0m\u001b[0;34m)\u001b[0m\u001b[0;34m:\u001b[0m\u001b[0;34m\u001b[0m\u001b[0;34m\u001b[0m\u001b[0m\n\u001b[0;32m---> 88\u001b[0;31m     \u001b[0;32mraise\u001b[0m \u001b[0mLinAlgError\u001b[0m\u001b[0;34m(\u001b[0m\u001b[0;34m\"Singular matrix\"\u001b[0m\u001b[0;34m)\u001b[0m\u001b[0;34m\u001b[0m\u001b[0;34m\u001b[0m\u001b[0m\n\u001b[0m\u001b[1;32m     89\u001b[0m \u001b[0;34m\u001b[0m\u001b[0m\n\u001b[1;32m     90\u001b[0m \u001b[0;32mdef\u001b[0m \u001b[0m_raise_linalgerror_nonposdef\u001b[0m\u001b[0;34m(\u001b[0m\u001b[0merr\u001b[0m\u001b[0;34m,\u001b[0m \u001b[0mflag\u001b[0m\u001b[0;34m)\u001b[0m\u001b[0;34m:\u001b[0m\u001b[0;34m\u001b[0m\u001b[0;34m\u001b[0m\u001b[0m\n",
            "\u001b[0;31mLinAlgError\u001b[0m: Singular matrix"
          ]
        }
      ]
    },
    {
      "cell_type": "code",
      "source": [
        "#For regularized take lamda = 0.001\n",
        "my_start_x =np.zeros((64, 1))\n",
        "my_tol= 1e-3\n",
        "lamda = 0.001\n",
        "x, k, f_value = find_minimizer_Newton(my_start_x, my_tol, BACKTRACKING_LINE_SEARCH,lamda, 0.9 , 0.5, 0.5)\n",
        "\n",
        "table = [[\"x_opt\",\"min value\", \"Number of iter\"]]\n",
        "table.append([x, f_value, k])\n",
        "print(tabulate(table, headers = 'firstrow', tablefmt = 'fancy_grid'))"
      ],
      "metadata": {
        "colab": {
          "base_uri": "https://localhost:8080/"
        },
        "id": "yguyAT6C4hBn",
        "outputId": "2d8b16ac-a086-4636-9399-827821fca178"
      },
      "execution_count": null,
      "outputs": [
        {
          "output_type": "stream",
          "name": "stdout",
          "text": [
            "╒═════════════════════╤═════════════╤══════════════════╕\n",
            "│ x_opt               │   min value │   Number of iter │\n",
            "╞═════════════════════╪═════════════╪══════════════════╡\n",
            "│ [[ 0.00000000e+00]  │     3064.45 │                9 │\n",
            "│  [ 9.69076881e-02]  │             │                  │\n",
            "│  [-4.32192761e-03]  │             │                  │\n",
            "│  [-7.75916338e-03]  │             │                  │\n",
            "│  [ 7.49591986e-02]  │             │                  │\n",
            "│  [ 1.13946582e-02]  │             │                  │\n",
            "│  [-2.71293921e-02]  │             │                  │\n",
            "│  [-7.34410663e-03]  │             │                  │\n",
            "│  [ 9.98267906e-01]  │             │                  │\n",
            "│  [-2.88089376e-02]  │             │                  │\n",
            "│  [ 1.18688356e-01]  │             │                  │\n",
            "│  [ 6.60922719e-02]  │             │                  │\n",
            "│  [-5.57075914e-02]  │             │                  │\n",
            "│  [-6.97056149e-02]  │             │                  │\n",
            "│  [ 9.65844013e-02]  │             │                  │\n",
            "│  [ 2.55196013e-01]  │             │                  │\n",
            "│  [-7.29830665e-01]  │             │                  │\n",
            "│  [ 2.42711745e-02]  │             │                  │\n",
            "│  [ 7.73241543e-02]  │             │                  │\n",
            "│  [-2.33008498e-02]  │             │                  │\n",
            "│  [-5.64077618e-02]  │             │                  │\n",
            "│  [ 5.72413971e-02]  │             │                  │\n",
            "│  [-4.88675247e-02]  │             │                  │\n",
            "│  [-2.62555997e-01]  │             │                  │\n",
            "│  [-9.06071168e-01]  │             │                  │\n",
            "│  [-1.49769638e-01]  │             │                  │\n",
            "│  [ 5.64022789e-02]  │             │                  │\n",
            "│  [ 8.96665318e-02]  │             │                  │\n",
            "│  [ 8.39315937e-02]  │             │                  │\n",
            "│  [ 9.85410046e-02]  │             │                  │\n",
            "│  [ 1.69269848e-03]  │             │                  │\n",
            "│  [-2.96649687e+00]  │             │                  │\n",
            "│  [ 0.00000000e+00]  │             │                  │\n",
            "│  [-1.54361470e-01]  │             │                  │\n",
            "│  [-9.32404639e-03]  │             │                  │\n",
            "│  [ 1.39497978e-01]  │             │                  │\n",
            "│  [-3.69237437e-02]  │             │                  │\n",
            "│  [ 5.46111772e-02]  │             │                  │\n",
            "│  [-9.20425585e-03]  │             │                  │\n",
            "│  [ 0.00000000e+00]  │             │                  │\n",
            "│  [ 1.03326506e-01]  │             │                  │\n",
            "│  [ 1.23983484e-01]  │             │                  │\n",
            "│  [-1.37635230e-02]  │             │                  │\n",
            "│  [ 5.40029021e-03]  │             │                  │\n",
            "│  [ 1.31185699e-01]  │             │                  │\n",
            "│  [ 5.49577814e-02]  │             │                  │\n",
            "│  [ 2.24935899e-02]  │             │                  │\n",
            "│  [ 7.48046264e-03]  │             │                  │\n",
            "│  [ 6.17507773e-01]  │             │                  │\n",
            "│  [ 2.44100619e-02]  │             │                  │\n",
            "│  [ 1.42356436e-03]  │             │                  │\n",
            "│  [-6.21114800e-02]  │             │                  │\n",
            "│  [-2.07024630e-01]  │             │                  │\n",
            "│  [-3.38510517e-02]  │             │                  │\n",
            "│  [ 1.05486785e-01]  │             │                  │\n",
            "│  [-1.40336481e-01]  │             │                  │\n",
            "│  [-9.82347826e-01]  │             │                  │\n",
            "│  [-1.14473639e-01]  │             │                  │\n",
            "│  [ 2.10485229e-02]  │             │                  │\n",
            "│  [-4.36083412e-02]  │             │                  │\n",
            "│  [ 1.87372531e-02]  │             │                  │\n",
            "│  [-6.66562216e-02]  │             │                  │\n",
            "│  [ 1.19384465e-02]  │             │                  │\n",
            "│  [-5.27782514e-02]] │             │                  │\n",
            "╘═════════════════════╧═════════════╧══════════════════╛\n"
          ]
        }
      ]
    },
    {
      "cell_type": "markdown",
      "source": [
        "Yes, we faced difficulty in direct OLSLR because inverse of a matrix will not always exist. This issue can be solved using regularization ,that is via Regularized OLSR."
      ],
      "metadata": {
        "id": "cGNe2qec5G3o"
      }
    },
    {
      "cell_type": "markdown",
      "source": [
        "**Que 2)**"
      ],
      "metadata": {
        "id": "jDpO4kM65L9l"
      }
    },
    {
      "cell_type": "code",
      "source": [
        "def find_minimizer_BFGS(start_x, tol, line_search_type, lamda, *args):\n",
        "  assert type(start_x) is np.ndarray\n",
        "  assert type(tol) is float and tol>=0 \n",
        "  \n",
        "  x = start_x\n",
        "  g_x = evalg(x, lamda)\n",
        "  I = np.identity(len(x))\n",
        "  B_k = I\n",
        "\n",
        "  alpha_start = float(args[0])\n",
        "  rho = float(args[1])\n",
        "  gamma = float(args[2])\n",
        "\n",
        "  k = 0\n",
        "  while (np.linalg.norm(g_x) > tol): \n",
        "    p_k = -np.matmul(B_k, g_x)\n",
        "    step_length = compute_steplength_backtracking_scaled_direction(x, g_x,p_k, alpha_start, rho, gamma,lamda)\n",
        "\n",
        "    x_prev = x\n",
        "    s_k = np.multiply(step_length,p_k)  #s_k = x_k+1 - x_k equivalently s_k = alpha*p_k\n",
        "    x = np.add(x, s_k)\n",
        "    y_k = evalg(x,lamda)-evalg(x_prev,lamda)\n",
        "\n",
        "    u_k = 1/(np.matmul(y_k.T,s_k))\n",
        "    a_1 = np.subtract(I , u_k*np.matmul(s_k,y_k.T))\n",
        "    a_2 = np.subtract(I , u_k*np.matmul(y_k, s_k.T))\n",
        "    B_k = np.matmul(np.matmul(a_1,B_k),a_2) + u_k*np.matmul(s_k,s_k.T)\n",
        "\n",
        "    k += 1 #increment iteration\n",
        "    g_x = evalg(x,lamda) #compute gradient at new point\n",
        "\n",
        "  return x , k, evalf(x,lamda)"
      ],
      "metadata": {
        "id": "y1kdYSyQ4x7f"
      },
      "execution_count": null,
      "outputs": []
    },
    {
      "cell_type": "code",
      "source": [
        "#for unregularized taken lamda = 0 \n",
        "my_start_x =np.zeros((64, 1))\n",
        "my_tol= 1e-3\n",
        "lamda = 0\n",
        "x_bfgs, k_bfgs, fun_val_bfgs= find_minimizer_BFGS(my_start_x, my_tol, BACKTRACKING_LINE_SEARCH,lamda, 0.9, 0.5 , 0.5)\n",
        "\n",
        "table_bfgs= [[\"x_opt\",\"min value\", \"Number of iter\"]]\n",
        "table_bfgs.append([x_bfgs, fun_val_bfgs, k_bfgs])\n",
        "print(tabulate(table_bfgs, headers = 'firstrow', tablefmt = 'fancy_grid'))"
      ],
      "metadata": {
        "colab": {
          "base_uri": "https://localhost:8080/"
        },
        "id": "Y9F9BohQ5mep",
        "outputId": "3b733df0-36f3-4016-b089-46cc4a0bccf5"
      },
      "execution_count": null,
      "outputs": [
        {
          "output_type": "stream",
          "name": "stdout",
          "text": [
            "╒═════════════════════╤═════════════╤══════════════════╕\n",
            "│ x_opt               │   min value │   Number of iter │\n",
            "╞═════════════════════╪═════════════╪══════════════════╡\n",
            "│ [[ 0.00000000e+00]  │     3064.45 │               69 │\n",
            "│  [ 9.69033631e-02]  │             │                  │\n",
            "│  [-4.32277345e-03]  │             │                  │\n",
            "│  [-7.76028323e-03]  │             │                  │\n",
            "│  [ 7.49594382e-02]  │             │                  │\n",
            "│  [ 1.13947197e-02]  │             │                  │\n",
            "│  [-2.71328244e-02]  │             │                  │\n",
            "│  [-7.33176357e-03]  │             │                  │\n",
            "│  [ 9.98337971e-01]  │             │                  │\n",
            "│  [-2.88095548e-02]  │             │                  │\n",
            "│  [ 1.18688288e-01]  │             │                  │\n",
            "│  [ 6.60916266e-02]  │             │                  │\n",
            "│  [-5.57069865e-02]  │             │                  │\n",
            "│  [-6.97063707e-02]  │             │                  │\n",
            "│  [ 9.65876436e-02]  │             │                  │\n",
            "│  [ 2.55182255e-01]  │             │                  │\n",
            "│  [-7.29828606e-01]  │             │                  │\n",
            "│  [ 2.42709925e-02]  │             │                  │\n",
            "│  [ 7.73249601e-02]  │             │                  │\n",
            "│  [-2.33000280e-02]  │             │                  │\n",
            "│  [-5.64086141e-02]  │             │                  │\n",
            "│  [ 5.72426823e-02]  │             │                  │\n",
            "│  [-4.88717686e-02]  │             │                  │\n",
            "│  [-2.62467766e-01]  │             │                  │\n",
            "│  [-9.06562807e-01]  │             │                  │\n",
            "│  [-1.49767791e-01]  │             │                  │\n",
            "│  [ 5.64019536e-02]  │             │                  │\n",
            "│  [ 8.96663591e-02]  │             │                  │\n",
            "│  [ 8.39318158e-02]  │             │                  │\n",
            "│  [ 9.85411935e-02]  │             │                  │\n",
            "│  [ 1.69317668e-03]  │             │                  │\n",
            "│  [-2.96805756e+00]  │             │                  │\n",
            "│  [ 0.00000000e+00]  │             │                  │\n",
            "│  [-1.54362338e-01]  │             │                  │\n",
            "│  [-9.32361190e-03]  │             │                  │\n",
            "│  [ 1.39497628e-01]  │             │                  │\n",
            "│  [-3.69234834e-02]  │             │                  │\n",
            "│  [ 5.46111774e-02]  │             │                  │\n",
            "│  [-9.20505044e-03]  │             │                  │\n",
            "│  [ 0.00000000e+00]  │             │                  │\n",
            "│  [ 1.03279547e-01]  │             │                  │\n",
            "│  [ 1.23983258e-01]  │             │                  │\n",
            "│  [-1.37639604e-02]  │             │                  │\n",
            "│  [ 5.40087799e-03]  │             │                  │\n",
            "│  [ 1.31185107e-01]  │             │                  │\n",
            "│  [ 5.49570763e-02]  │             │                  │\n",
            "│  [ 2.24938240e-02]  │             │                  │\n",
            "│  [ 7.47978195e-03]  │             │                  │\n",
            "│  [ 6.17755004e-01]  │             │                  │\n",
            "│  [ 2.44122355e-02]  │             │                  │\n",
            "│  [ 1.42333031e-03]  │             │                  │\n",
            "│  [-6.21110759e-02]  │             │                  │\n",
            "│  [-2.07025037e-01]  │             │                  │\n",
            "│  [-3.38506005e-02]  │             │                  │\n",
            "│  [ 1.05486736e-01]  │             │                  │\n",
            "│  [-1.40335957e-01]  │             │                  │\n",
            "│  [-9.84168551e-01]  │             │                  │\n",
            "│  [-1.14467159e-01]  │             │                  │\n",
            "│  [ 2.10494909e-02]  │             │                  │\n",
            "│  [-4.36076108e-02]  │             │                  │\n",
            "│  [ 1.87374934e-02]  │             │                  │\n",
            "│  [-6.66567874e-02]  │             │                  │\n",
            "│  [ 1.19382623e-02]  │             │                  │\n",
            "│  [-5.27776602e-02]] │             │                  │\n",
            "╘═════════════════════╧═════════════╧══════════════════╛\n"
          ]
        }
      ]
    },
    {
      "cell_type": "code",
      "source": [
        "#For regularized lamda = 0.001\n",
        "my_start_x =np.zeros((64, 1))\n",
        "my_tol= 1e-3\n",
        "lamda = 0.001\n",
        "x_bfgs, k_bfgs, fun_val_bfgs= find_minimizer_BFGS(my_start_x,  my_tol, BACKTRACKING_LINE_SEARCH,lamda, 0.9 , 0.5 , 0.5 )\n",
        "\n",
        "table_bfgs1= [[\"x_opt\",\"min value\", \"Number of iter\"]]\n",
        "table_bfgs1.append([x_bfgs, fun_val_bfgs, k_bfgs])\n",
        "print(tabulate(table_bfgs1, headers = 'firstrow', tablefmt = 'fancy_grid'))"
      ],
      "metadata": {
        "colab": {
          "base_uri": "https://localhost:8080/"
        },
        "id": "SjZeWIPT7BcF",
        "outputId": "0d978784-17df-4dbf-e52e-d994c3c9111d"
      },
      "execution_count": null,
      "outputs": [
        {
          "output_type": "stream",
          "name": "stdout",
          "text": [
            "╒═════════════════════╤═════════════╤══════════════════╕\n",
            "│ x_opt               │   min value │   Number of iter │\n",
            "╞═════════════════════╪═════════════╪══════════════════╡\n",
            "│ [[ 0.00000000e+00]  │     3064.45 │               69 │\n",
            "│  [ 9.69076943e-02]  │             │                  │\n",
            "│  [-4.32192872e-03]  │             │                  │\n",
            "│  [-7.75916341e-03]  │             │                  │\n",
            "│  [ 7.49591989e-02]  │             │                  │\n",
            "│  [ 1.13946581e-02]  │             │                  │\n",
            "│  [-2.71293919e-02]  │             │                  │\n",
            "│  [-7.34410690e-03]  │             │                  │\n",
            "│  [ 9.98267911e-01]  │             │                  │\n",
            "│  [-2.88089386e-02]  │             │                  │\n",
            "│  [ 1.18688356e-01]  │             │                  │\n",
            "│  [ 6.60922721e-02]  │             │                  │\n",
            "│  [-5.57075918e-02]  │             │                  │\n",
            "│  [-6.97056151e-02]  │             │                  │\n",
            "│  [ 9.65844012e-02]  │             │                  │\n",
            "│  [ 2.55196016e-01]  │             │                  │\n",
            "│  [-7.29830664e-01]  │             │                  │\n",
            "│  [ 2.42711753e-02]  │             │                  │\n",
            "│  [ 7.73241548e-02]  │             │                  │\n",
            "│  [-2.33008500e-02]  │             │                  │\n",
            "│  [-5.64077616e-02]  │             │                  │\n",
            "│  [ 5.72413972e-02]  │             │                  │\n",
            "│  [-4.88675249e-02]  │             │                  │\n",
            "│  [-2.62556001e-01]  │             │                  │\n",
            "│  [-9.06071147e-01]  │             │                  │\n",
            "│  [-1.49769639e-01]  │             │                  │\n",
            "│  [ 5.64022788e-02]  │             │                  │\n",
            "│  [ 8.96665320e-02]  │             │                  │\n",
            "│  [ 8.39315938e-02]  │             │                  │\n",
            "│  [ 9.85410046e-02]  │             │                  │\n",
            "│  [ 1.69269901e-03]  │             │                  │\n",
            "│  [-2.96649685e+00]  │             │                  │\n",
            "│  [ 0.00000000e+00]  │             │                  │\n",
            "│  [-1.54361471e-01]  │             │                  │\n",
            "│  [-9.32404624e-03]  │             │                  │\n",
            "│  [ 1.39497978e-01]  │             │                  │\n",
            "│  [-3.69237436e-02]  │             │                  │\n",
            "│  [ 5.46111770e-02]  │             │                  │\n",
            "│  [-9.20425560e-03]  │             │                  │\n",
            "│  [ 0.00000000e+00]  │             │                  │\n",
            "│  [ 1.03326517e-01]  │             │                  │\n",
            "│  [ 1.23983484e-01]  │             │                  │\n",
            "│  [-1.37635229e-02]  │             │                  │\n",
            "│  [ 5.40029005e-03]  │             │                  │\n",
            "│  [ 1.31185700e-01]  │             │                  │\n",
            "│  [ 5.49577819e-02]  │             │                  │\n",
            "│  [ 2.24935902e-02]  │             │                  │\n",
            "│  [ 7.48046547e-03]  │             │                  │\n",
            "│  [ 6.17507747e-01]  │             │                  │\n",
            "│  [ 2.44100617e-02]  │             │                  │\n",
            "│  [ 1.42356430e-03]  │             │                  │\n",
            "│  [-6.21114800e-02]  │             │                  │\n",
            "│  [-2.07024631e-01]  │             │                  │\n",
            "│  [-3.38510519e-02]  │             │                  │\n",
            "│  [ 1.05486785e-01]  │             │                  │\n",
            "│  [-1.40336481e-01]  │             │                  │\n",
            "│  [-9.82347376e-01]  │             │                  │\n",
            "│  [-1.14473645e-01]  │             │                  │\n",
            "│  [ 2.10485245e-02]  │             │                  │\n",
            "│  [-4.36083415e-02]  │             │                  │\n",
            "│  [ 1.87372531e-02]  │             │                  │\n",
            "│  [-6.66562213e-02]  │             │                  │\n",
            "│  [ 1.19384461e-02]  │             │                  │\n",
            "│  [-5.27782505e-02]] │             │                  │\n",
            "╘═════════════════════╧═════════════╧══════════════════╛\n"
          ]
        }
      ]
    },
    {
      "cell_type": "markdown",
      "source": [
        "I can observe that ,I didnot faced any difficulty in direct OLSLR by BFGS method.Also we got almost same optimizers by direct OLSLR and by regularized OLSLR and converging with same number of iterations."
      ],
      "metadata": {
        "id": "QdNjplB69lYa"
      }
    },
    {
      "cell_type": "code",
      "source": [
        ""
      ],
      "metadata": {
        "id": "KZIgl5ne8MJv"
      },
      "execution_count": null,
      "outputs": []
    }
  ]
}