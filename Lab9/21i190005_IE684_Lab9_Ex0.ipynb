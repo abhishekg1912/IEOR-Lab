{
  "nbformat": 4,
  "nbformat_minor": 0,
  "metadata": {
    "colab": {
      "name": "21i190005_IE684_Lab9_Ex0.ipynb",
      "provenance": [],
      "collapsed_sections": []
    },
    "kernelspec": {
      "name": "python3",
      "display_name": "Python 3"
    },
    "language_info": {
      "name": "python"
    }
  },
  "cells": [
    {
      "cell_type": "markdown",
      "source": [
        "#Exercise-0"
      ],
      "metadata": {
        "id": "nQsdKLlyRRnd"
      }
    },
    {
      "cell_type": "code",
      "execution_count": 1,
      "metadata": {
        "colab": {
          "base_uri": "https://localhost:8080/"
        },
        "id": "T-o-awqeZtDa",
        "outputId": "1e579c78-4697-486b-b90b-db2f327bef68"
      },
      "outputs": [
        {
          "output_type": "stream",
          "name": "stdout",
          "text": [
            "(178, 13)\n",
            "(178,)\n",
            "No. of classes are  3 \n",
            "and they are labeled as  [0 1 2]\n",
            "\n",
            " [[ 0.68421053 -0.61660079  0.14438503 ... -0.08943089  0.94139194\n",
            "   0.12268188]\n",
            " [ 0.14210526 -0.58893281 -0.1657754  ... -0.07317073  0.56043956\n",
            "   0.10128388]\n",
            " [ 0.12105263 -0.35968379  0.40106952 ... -0.10569106  0.39194139\n",
            "   0.29386591]\n",
            " ...\n",
            " [ 0.17894737  0.39920949 -0.03743316 ... -0.82113821 -0.78754579\n",
            "  -0.20542083]\n",
            " [ 0.12631579 -0.2687747   0.0802139  ... -0.80487805 -0.74358974\n",
            "  -0.19828816]\n",
            " [ 0.63157895  0.32806324  0.47593583 ... -0.78861789 -0.75824176\n",
            "  -0.59771755]]\n"
          ]
        }
      ],
      "source": [
        "import numpy as np\n",
        "import matplotlib.pyplot as plt\n",
        "from sklearn.datasets import load_wine\n",
        "wine = load_wine()\n",
        "\n",
        "print(wine.data.shape)\n",
        "A = wine.data\n",
        "num = A.shape[1]\n",
        "for i in range(num):\n",
        "  A[:,i] = -1 + 2*((A[:,i]-min(A[:,i]))/(max(A[:,i])-min(A[:,i])))\n",
        "\n",
        "print(wine.target.shape)\n",
        "\n",
        "print(\"No. of classes are \",len(np.unique(wine.target)), \"\\nand they are labeled as \", np.unique(wine.target))\n",
        "n = wine.data.shape[0]\n",
        "d = wine.data.shape[1] \n",
        "print(\"\\n\",A)  "
      ]
    },
    {
      "cell_type": "code",
      "source": [
        "y = 1.0*np.ones([A.shape[0],1])\n",
        "for i in range(wine.target.shape[0]):\n",
        "  if wine.target[i] != 1:\n",
        "    y[i] = -1"
      ],
      "metadata": {
        "id": "vFJz-CmL3MUb"
      },
      "execution_count": 2,
      "outputs": []
    },
    {
      "cell_type": "code",
      "source": [
        "indexarr = np.arange(n) \n",
        "np.random.seed(10)\n",
        "np.random.shuffle(indexarr)\n",
        "\n",
        "train_data = []\n",
        "train_label = []\n",
        "test_data = []\n",
        "test_label = []\n",
        "counter = 1\n",
        "for i in indexarr:\n",
        "  if counter <= int(0.8*n):\n",
        "    train_data.append(list(A[i]))\n",
        "    train_label.append(list(y[i]))\n",
        "  else:\n",
        "    test_data.append(list(A[i]))\n",
        "    test_label.append(list(y[i]))\n",
        "  counter = counter + 1\n",
        "train_data = np.array(train_data)\n",
        "train_label = np.array(train_label)\n",
        "test_data = np.array(test_data)\n",
        "test_label = np.array(test_label)"
      ],
      "metadata": {
        "id": "BDtarX193JvE"
      },
      "execution_count": 3,
      "outputs": []
    },
    {
      "cell_type": "code",
      "source": [
        "def predict(w,x):\n",
        "  a = np.matmul(w.T, x)\n",
        "  if a > 0:\n",
        "    return 1\n",
        "  elif a ==0:\n",
        "    return 0  \n",
        "  else:\n",
        "    return -1"
      ],
      "metadata": {
        "id": "HHbO5e0xaBg4"
      },
      "execution_count": 4,
      "outputs": []
    },
    {
      "cell_type": "code",
      "source": [
        "def compute_accuracy(data,labels,w):\n",
        "  c = 0\n",
        "  for i in range(len(labels)):\n",
        "    term_2 = np.reshape(data[i], (np.shape(data)[1],1))\n",
        "    if predict(w, term_2) == labels[i]:\n",
        "      c = c + 1\n",
        "  return c/len(labels)"
      ],
      "metadata": {
        "id": "X9WplC2MaFaX"
      },
      "execution_count": 5,
      "outputs": []
    },
    {
      "cell_type": "code",
      "source": [
        ""
      ],
      "metadata": {
        "id": "4WqtPrsIiuGz"
      },
      "execution_count": 5,
      "outputs": []
    }
  ]
}